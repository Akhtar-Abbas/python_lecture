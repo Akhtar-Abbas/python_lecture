{
 "cells": [
  {
   "cell_type": "markdown",
   "id": "5436025a-54f7-4c15-a09b-4b33b5a2045e",
   "metadata": {},
   "source": [
    "# list\n",
    "- use to store set of values\n",
    "- the set of value may be differend datatype"
   ]
  },
  {
   "cell_type": "code",
   "execution_count": 2,
   "id": "ed688e24-53e3-4c30-a2f4-521d5048da99",
   "metadata": {},
   "outputs": [
    {
     "name": "stdout",
     "output_type": "stream",
     "text": [
      "[1, 3, 4, 4.4, 4.6, 4]\n"
     ]
    }
   ],
   "source": [
    "marks=[1,3,4,4.4,4.6,4]\n",
    "print(marks)"
   ]
  },
  {
   "cell_type": "code",
   "execution_count": 4,
   "id": "5c6edc14-764f-459d-b7cb-4e9d97ee5842",
   "metadata": {},
   "outputs": [
    {
     "name": "stdout",
     "output_type": "stream",
     "text": [
      "1\n"
     ]
    }
   ],
   "source": [
    "print(marks[0])"
   ]
  },
  {
   "cell_type": "code",
   "execution_count": 6,
   "id": "dbab0ec7-7d03-45b2-b2f3-7f7fe9b2806e",
   "metadata": {},
   "outputs": [
    {
     "name": "stdout",
     "output_type": "stream",
     "text": [
      "6\n"
     ]
    }
   ],
   "source": [
    "print(len(marks))"
   ]
  },
  {
   "cell_type": "code",
   "execution_count": 8,
   "id": "247887f3-8b54-46cc-baa4-d87f615af70a",
   "metadata": {},
   "outputs": [
    {
     "name": "stdout",
     "output_type": "stream",
     "text": [
      "['akhtar', 30, 'skardu']\n"
     ]
    }
   ],
   "source": [
    "student=[\"akhtar\",30,\"skardu\"]\n",
    "print(student)"
   ]
  },
  {
   "cell_type": "markdown",
   "id": "6d8c0d1c-4e0a-4b20-a756-047fcc12881d",
   "metadata": {},
   "source": [
    "- the string is  immutible but the list is mutable"
   ]
  },
  {
   "cell_type": "code",
   "execution_count": 11,
   "id": "37cbf9b3-98cd-49cb-858d-10b6abe18b52",
   "metadata": {},
   "outputs": [
    {
     "name": "stdout",
     "output_type": "stream",
     "text": [
      "akhtar\n"
     ]
    },
    {
     "ename": "TypeError",
     "evalue": "'str' object does not support item assignment",
     "output_type": "error",
     "traceback": [
      "\u001b[1;31m---------------------------------------------------------------------------\u001b[0m",
      "\u001b[1;31mTypeError\u001b[0m                                 Traceback (most recent call last)",
      "Cell \u001b[1;32mIn[11], line 3\u001b[0m\n\u001b[0;32m      1\u001b[0m name\u001b[38;5;241m=\u001b[39m\u001b[38;5;124m\"\u001b[39m\u001b[38;5;124makhtar\u001b[39m\u001b[38;5;124m\"\u001b[39m\n\u001b[0;32m      2\u001b[0m \u001b[38;5;28mprint\u001b[39m(name)\n\u001b[1;32m----> 3\u001b[0m name[\u001b[38;5;241m0\u001b[39m]\u001b[38;5;241m=\u001b[39m\u001b[38;5;124m\"\u001b[39m\u001b[38;5;124me\u001b[39m\u001b[38;5;124m\"\u001b[39m\n\u001b[0;32m      4\u001b[0m \u001b[38;5;28mprint\u001b[39m(name)\n",
      "\u001b[1;31mTypeError\u001b[0m: 'str' object does not support item assignment"
     ]
    }
   ],
   "source": [
    "name=\"akhtar\"\n",
    "print(name)\n",
    "name[0]=\"e\"\n",
    "print(name)"
   ]
  },
  {
   "cell_type": "markdown",
   "id": "e61aaf52-0375-4c80-80eb-76bdf780519c",
   "metadata": {},
   "source": [
    "- the above error in cell show that string is immutable"
   ]
  },
  {
   "cell_type": "code",
   "execution_count": 20,
   "id": "f8231328-35ff-49ee-b515-400d36edfaa8",
   "metadata": {},
   "outputs": [
    {
     "name": "stdout",
     "output_type": "stream",
     "text": [
      "['ali', 40, 'karachi']\n"
     ]
    }
   ],
   "source": [
    "listss=[\"akhtar\",40,\"karachi\"]\n",
    "listss[0]=\"ali\"\n",
    "print(listss)"
   ]
  },
  {
   "cell_type": "code",
   "execution_count": 30,
   "id": "b5ae947e-01d2-496a-8a6a-20d6f7d00c35",
   "metadata": {},
   "outputs": [
    {
     "name": "stdout",
     "output_type": "stream",
     "text": [
      "karachi\n"
     ]
    }
   ],
   "source": [
    "print(listss[2])"
   ]
  },
  {
   "cell_type": "markdown",
   "id": "429e9e84-87d3-4276-b641-aebf3397ff8c",
   "metadata": {},
   "source": [
    "## list slicing"
   ]
  },
  {
   "cell_type": "markdown",
   "id": "034cfe9a-80d8-48e6-a3b3-f2d691924191",
   "metadata": {},
   "source": [
    "- part of list"
   ]
  },
  {
   "cell_type": "code",
   "execution_count": 27,
   "id": "13497edb-0743-4481-91e9-f8327525733a",
   "metadata": {},
   "outputs": [
    {
     "name": "stdout",
     "output_type": "stream",
     "text": [
      "[0, 1, 2, 3]\n"
     ]
    }
   ],
   "source": [
    "num=[0,1,2,3,4,5]\n",
    "print(num[0:4])"
   ]
  },
  {
   "cell_type": "markdown",
   "id": "f9a1b0a8-bb0f-461c-a694-e52cd38724cf",
   "metadata": {},
   "source": [
    "- in indexing of list the first value inlude but the last value is not include"
   ]
  },
  {
   "cell_type": "markdown",
   "id": "315501b0-e646-4e20-a1ba-d21efa99cc2e",
   "metadata": {},
   "source": [
    "- in we miss the starting or ending index python fill automatically"
   ]
  },
  {
   "cell_type": "code",
   "execution_count": 35,
   "id": "f8604ea8-f677-4096-be4f-c9fcf3f8ba6f",
   "metadata": {},
   "outputs": [
    {
     "name": "stdout",
     "output_type": "stream",
     "text": [
      "['akhtar', 'ali', 'akbar']\n"
     ]
    }
   ],
   "source": [
    "name=[\"akhtar\",\"ali\",\"akbar\",\"asghar\"]\n",
    "print(name[:3])"
   ]
  },
  {
   "cell_type": "code",
   "execution_count": 37,
   "id": "45e111b7-54a7-4d9b-9eb0-6037835568fc",
   "metadata": {},
   "outputs": [
    {
     "name": "stdout",
     "output_type": "stream",
     "text": [
      "['asghar']\n"
     ]
    }
   ],
   "source": [
    "print(name[3:])"
   ]
  },
  {
   "cell_type": "code",
   "execution_count": 39,
   "id": "ce52360d-60bf-4299-b5fe-5ea400ae839c",
   "metadata": {},
   "outputs": [
    {
     "name": "stdout",
     "output_type": "stream",
     "text": [
      "[40, 'skardu']\n"
     ]
    }
   ],
   "source": [
    "info=['akhtar',40,'skardu','smiu']\n",
    "print(info[-3:-1])"
   ]
  },
  {
   "cell_type": "markdown",
   "id": "f0a8503e-a187-4f18-9016-10e99eed8cec",
   "metadata": {},
   "source": [
    "- positive index from left to right and start with 0 index\n",
    "- negative index from right to left and start with -1 index"
   ]
  },
  {
   "cell_type": "markdown",
   "id": "8118a578-1f3b-4dec-b5ee-3bf22fc91cea",
   "metadata": {},
   "source": [
    "### list methods"
   ]
  },
  {
   "cell_type": "markdown",
   "id": "49436ec9-2583-43d8-93c7-10e991fd68af",
   "metadata": {},
   "source": [
    "- list specific method"
   ]
  },
  {
   "cell_type": "code",
   "execution_count": 5,
   "id": "93b75237-353d-401a-b373-41ce3d4f93c4",
   "metadata": {},
   "outputs": [
    {
     "name": "stdout",
     "output_type": "stream",
     "text": [
      "['akhtar', 'abbas', 'ali', 'qammar']\n"
     ]
    }
   ],
   "source": [
    "names=[\"akhtar\",\"abbas\",\"ali\"]\n",
    "names.append(\"qammar\")\n",
    "print(names)"
   ]
  },
  {
   "cell_type": "markdown",
   "id": "85613535-f005-420e-b2bc-73be0fc04b6f",
   "metadata": {},
   "source": [
    "- append() is used to add value in a list"
   ]
  },
  {
   "cell_type": "markdown",
   "id": "e0a47a6b-ae7c-410b-9598-00f2539fc39a",
   "metadata": {},
   "source": [
    "- it is also called mutating or mutable "
   ]
  },
  {
   "cell_type": "code",
   "execution_count": 11,
   "id": "c5e827de-aef4-4145-9c74-e48ca95b7295",
   "metadata": {},
   "outputs": [
    {
     "name": "stdout",
     "output_type": "stream",
     "text": [
      "[1, 2, 3, 3, 4, 5, 6]\n"
     ]
    }
   ],
   "source": [
    "num=[4,3,5,2,3,6,1]\n",
    "num.sort()\n",
    "print(num)"
   ]
  },
  {
   "cell_type": "markdown",
   "id": "01a73e6e-768c-4090-b944-dd2b83b9e7a2",
   "metadata": {},
   "source": [
    "- sorting is by default in ascending order"
   ]
  },
  {
   "cell_type": "markdown",
   "id": "d124404b-d386-4d88-83a5-6aa949a8db37",
   "metadata": {},
   "source": [
    "- if we want in ascending then"
   ]
  },
  {
   "cell_type": "code",
   "execution_count": 21,
   "id": "ac484676-5850-4964-8d76-80d0c693bf92",
   "metadata": {},
   "outputs": [
    {
     "name": "stdout",
     "output_type": "stream",
     "text": [
      "[6, 5, 4, 3, 3, 2, 1]\n"
     ]
    }
   ],
   "source": [
    "num.sort(reverse=True)\n",
    "print(num)"
   ]
  },
  {
   "cell_type": "code",
   "execution_count": 23,
   "id": "6aac619f-2bb2-4a69-9c18-57a7bc90d2db",
   "metadata": {},
   "outputs": [
    {
     "name": "stdout",
     "output_type": "stream",
     "text": [
      "None\n",
      "None\n",
      "[0, 1, 2, 3, 3, 4, 5, 6]\n"
     ]
    }
   ],
   "source": [
    "print(num.append(0))\n",
    "print(num.sort())\n",
    "print(num)\n"
   ]
  },
  {
   "cell_type": "code",
   "execution_count": 25,
   "id": "3402d59a-9fc8-406f-85a2-7f9e621cff53",
   "metadata": {},
   "outputs": [
    {
     "name": "stdout",
     "output_type": "stream",
     "text": [
      "['apple', 'banana', 'litchi', 'mango', 'orange']\n"
     ]
    }
   ],
   "source": [
    "fruits=[\"banana\", \"apple\", \"orange\",\"mango\",\"litchi\"]\n",
    "fruits.sort()\n",
    "print(fruits)"
   ]
  },
  {
   "cell_type": "code",
   "execution_count": 27,
   "id": "c0924c1e-899a-4ac1-9ed5-bd2fa7545d37",
   "metadata": {},
   "outputs": [
    {
     "name": "stdout",
     "output_type": "stream",
     "text": [
      "['orange', 'mango', 'litchi', 'banana', 'apple']\n"
     ]
    }
   ],
   "source": [
    "fruits.sort(reverse=True)\n",
    "print(fruits)"
   ]
  },
  {
   "cell_type": "code",
   "execution_count": 29,
   "id": "655ee572-02ca-40da-8624-c401d51583f7",
   "metadata": {},
   "outputs": [
    {
     "name": "stdout",
     "output_type": "stream",
     "text": [
      "['apple', 'banana', 'litchi', 'mango', 'orange']\n"
     ]
    }
   ],
   "source": [
    "fruits.reverse()\n",
    "print(fruits)"
   ]
  },
  {
   "cell_type": "code",
   "execution_count": 31,
   "id": "87459c3a-7529-4531-9542-963ec4459c67",
   "metadata": {},
   "outputs": [
    {
     "name": "stdout",
     "output_type": "stream",
     "text": [
      "[6, 6, 5, 4, 3, 2, 1]\n"
     ]
    }
   ],
   "source": [
    "num=[1,2,3,4,5,6,6]\n",
    "num.reverse()\n",
    "print(num)"
   ]
  },
  {
   "cell_type": "markdown",
   "id": "b42b02ba-4fa7-4bf6-b888-36c7e022997e",
   "metadata": {},
   "source": [
    "- reverse is use to reverse the list"
   ]
  },
  {
   "cell_type": "markdown",
   "id": "dbb492a0-e3d5-4724-bc86-c87accbf6528",
   "metadata": {},
   "source": [
    "- insert method is used to element value in list at particular index but append use to add element but in last by default"
   ]
  },
  {
   "cell_type": "code",
   "execution_count": 43,
   "id": "73785e0b-3e0c-434d-9738-9cb542e06190",
   "metadata": {},
   "outputs": [
    {
     "name": "stdout",
     "output_type": "stream",
     "text": [
      "[6, 6, 5, 4, 3, 0, 2, 1]\n"
     ]
    }
   ],
   "source": [
    "num.insert(5,0)\n",
    "print(num)"
   ]
  },
  {
   "cell_type": "code",
   "execution_count": 45,
   "id": "db176d27-982e-45be-bb73-920a2ed4d332",
   "metadata": {},
   "outputs": [
    {
     "name": "stdout",
     "output_type": "stream",
     "text": [
      "[1, 2, 3, 4, 5]\n"
     ]
    }
   ],
   "source": [
    "num=[0,1,2,3,4,5]\n",
    "num.remove(0)\n",
    "print(num)"
   ]
  },
  {
   "cell_type": "markdown",
   "id": "c7a01617-96f9-4d7c-9820-c3dfc3165408",
   "metadata": {},
   "source": [
    "- remove method is used remove any element from list"
   ]
  },
  {
   "cell_type": "code",
   "execution_count": 48,
   "id": "2c119ff6-957f-4b65-be06-68a465d3ab05",
   "metadata": {},
   "outputs": [
    {
     "name": "stdout",
     "output_type": "stream",
     "text": [
      "[1, 2, 3, 4, 5]\n"
     ]
    }
   ],
   "source": [
    "num=[1,1,2,3,4,5]\n",
    "num.pop(0)\n",
    "print(num)"
   ]
  },
  {
   "cell_type": "markdown",
   "id": "c6715a33-8daa-484e-992a-1f17699fbe9f",
   "metadata": {},
   "source": [
    "- pop is use to remove element from list through index of element"
   ]
  },
  {
   "cell_type": "markdown",
   "id": "54eaf297-d44b-4dd1-9536-1b9aa9d2e6df",
   "metadata": {},
   "source": [
    "# Tuples"
   ]
  },
  {
   "cell_type": "markdown",
   "id": "8c6b4a74-8a11-470b-84e1-d3e4e1e138f0",
   "metadata": {},
   "source": [
    "- store set of value of different datatype but not mutatable"
   ]
  },
  {
   "cell_type": "code",
   "execution_count": 10,
   "id": "9fe0c74d-3fc1-45d6-93e0-27aff3a05ff1",
   "metadata": {},
   "outputs": [
    {
     "name": "stdout",
     "output_type": "stream",
     "text": [
      "(1, 2, 3, 4, 5)\n"
     ]
    }
   ],
   "source": [
    "tup=(1,2,3,4,5)\n",
    "print(tup)"
   ]
  },
  {
   "cell_type": "code",
   "execution_count": 12,
   "id": "d63750f7-ab37-48a6-911c-9be2c5db48ff",
   "metadata": {},
   "outputs": [
    {
     "name": "stdout",
     "output_type": "stream",
     "text": [
      "2\n"
     ]
    }
   ],
   "source": [
    "print(tup[1])"
   ]
  },
  {
   "cell_type": "code",
   "execution_count": 14,
   "id": "56ba4459-6f5e-480f-b238-b42b1a509051",
   "metadata": {},
   "outputs": [
    {
     "ename": "TypeError",
     "evalue": "'tuple' object does not support item assignment",
     "output_type": "error",
     "traceback": [
      "\u001b[1;31m---------------------------------------------------------------------------\u001b[0m",
      "\u001b[1;31mTypeError\u001b[0m                                 Traceback (most recent call last)",
      "Cell \u001b[1;32mIn[14], line 1\u001b[0m\n\u001b[1;32m----> 1\u001b[0m tup[\u001b[38;5;241m0\u001b[39m]\u001b[38;5;241m=\u001b[39m\u001b[38;5;241m2\u001b[39m\n\u001b[0;32m      2\u001b[0m \u001b[38;5;28mprint\u001b[39m(tup)\n",
      "\u001b[1;31mTypeError\u001b[0m: 'tuple' object does not support item assignment"
     ]
    }
   ],
   "source": [
    "tup[0]=2\n",
    "print(tup)"
   ]
  },
  {
   "cell_type": "markdown",
   "id": "94dd0463-2af4-4e7d-90f0-c7c27ef8e94a",
   "metadata": {},
   "source": [
    "- above error show that tuple is immutable"
   ]
  },
  {
   "cell_type": "code",
   "execution_count": 13,
   "id": "0dd76f97-6852-420c-afcd-fe690d1fb9b8",
   "metadata": {},
   "outputs": [
    {
     "name": "stdout",
     "output_type": "stream",
     "text": [
      "1\n",
      "<class 'int'>\n"
     ]
    }
   ],
   "source": [
    "tup=(1)\n",
    "print(tup)\n",
    "print(type(tup))"
   ]
  },
  {
   "cell_type": "code",
   "execution_count": 15,
   "id": "cb7c28e2-b739-4498-9061-ae4d5d195aa0",
   "metadata": {},
   "outputs": [
    {
     "name": "stdout",
     "output_type": "stream",
     "text": [
      "(1,)\n",
      "<class 'tuple'>\n"
     ]
    }
   ],
   "source": [
    "tup=(1,)\n",
    "print(tup)\n",
    "print(type(tup))"
   ]
  },
  {
   "cell_type": "markdown",
   "id": "2665a77d-ab07-433d-a90e-9c65caf83087",
   "metadata": {},
   "source": [
    "- if want show data as tuple then we use comma with single value"
   ]
  },
  {
   "cell_type": "markdown",
   "id": "14ed821c-2486-4537-947e-8401707ececb",
   "metadata": {},
   "source": [
    "### slicing in tuple"
   ]
  },
  {
   "cell_type": "code",
   "execution_count": 20,
   "id": "a13a6e0c-a52f-448f-8943-7cb10a0e9175",
   "metadata": {},
   "outputs": [
    {
     "name": "stdout",
     "output_type": "stream",
     "text": [
      "(4, 5, 7)\n"
     ]
    }
   ],
   "source": [
    "tup1=(1,3,4,5,7,8,8)\n",
    "print(tup1[2:5])"
   ]
  },
  {
   "cell_type": "markdown",
   "id": "e4db73ac-434d-4fc8-9e2b-925449fddef4",
   "metadata": {},
   "source": [
    "### tuple methods"
   ]
  },
  {
   "cell_type": "markdown",
   "id": "3cc69e51-0526-4ed3-af2d-f92dcf504fa6",
   "metadata": {},
   "source": [
    "- index is use to find specific element in at index"
   ]
  },
  {
   "cell_type": "code",
   "execution_count": 29,
   "id": "301fa1ac-2fdd-4860-9bd8-69ceb1e222f7",
   "metadata": {},
   "outputs": [
    {
     "name": "stdout",
     "output_type": "stream",
     "text": [
      "2\n"
     ]
    }
   ],
   "source": [
    "tup=(\"akhtar\",\"abbas\",\"ali\",\"mustafa\")\n",
    "print(tup.index(\"ali\"))"
   ]
  },
  {
   "cell_type": "markdown",
   "id": "349ffd8c-fdd7-45b5-9cb4-dff4d988a4b8",
   "metadata": {},
   "source": [
    "- count is use to count repeatition of element in a tuple"
   ]
  },
  {
   "cell_type": "code",
   "execution_count": 34,
   "id": "ed7955a6-bc5e-482b-83ba-1a7f64556dc1",
   "metadata": {},
   "outputs": [
    {
     "name": "stdout",
     "output_type": "stream",
     "text": [
      "3\n"
     ]
    }
   ],
   "source": [
    "names=(\"akhtar\",\"ali\",\"mohsin\",\"hassam\",\"zulfi\",\"ali\",\"ali\")\n",
    "print(names.count(\"ali\"))"
   ]
  },
  {
   "cell_type": "markdown",
   "id": "ba9a7519-8b20-44fd-a74a-fd59f2fd8a22",
   "metadata": {},
   "source": [
    "### practice questions"
   ]
  },
  {
   "cell_type": "code",
   "execution_count": 37,
   "id": "e495434b-7520-4975-8bd1-79556a8973e6",
   "metadata": {},
   "outputs": [
    {
     "name": "stdout",
     "output_type": "stream",
     "text": [
      "Enter your three favorit movie name:\n"
     ]
    },
    {
     "name": "stdin",
     "output_type": "stream",
     "text": [
      "1- hichki\n",
      "2- three idiot\n",
      "3- 12 fail\n"
     ]
    },
    {
     "name": "stdout",
     "output_type": "stream",
     "text": [
      "['hichki', 'three idiot', '12 fail']\n"
     ]
    }
   ],
   "source": [
    "movie=[]\n",
    "print(\"Enter your three favorit movie name:\")\n",
    "a=input(\"1-\",)\n",
    "movie.append(a)\n",
    "b=input(\"2-\",)\n",
    "movie.append(b)\n",
    "c=input(\"3-\",)\n",
    "movie.append(c)\n",
    "print(movie)"
   ]
  },
  {
   "cell_type": "markdown",
   "id": "4b197f50-a8ec-44d3-85a2-c4efa0be6e68",
   "metadata": {},
   "source": [
    "- palindorm is squence of element in list that is same  from left right and vice versa\n",
    "- e.g racecar , ma'am"
   ]
  },
  {
   "cell_type": "code",
   "execution_count": 51,
   "id": "38b73b80-2005-4f76-84e3-311be714cad9",
   "metadata": {},
   "outputs": [
    {
     "name": "stdout",
     "output_type": "stream",
     "text": [
      "[1, 2, 3, 2, 1]\n"
     ]
    }
   ],
   "source": [
    "listt=[1,2,3,2,1]\n",
    "print(listt)"
   ]
  },
  {
   "cell_type": "code",
   "execution_count": 55,
   "id": "177e7b9b-d1dc-48f8-b407-77b20a7ca7c4",
   "metadata": {},
   "outputs": [
    {
     "name": "stdout",
     "output_type": "stream",
     "text": [
      "[1, 2, 3, 2, 1]\n"
     ]
    }
   ],
   "source": [
    "listt.reverse()\n",
    "print(listt)"
   ]
  },
  {
   "cell_type": "markdown",
   "id": "692a74d2-a8a8-4838-9b00-3c5ac81a22ae",
   "metadata": {},
   "source": [
    "- if the element and if reverse are are same the this called palidorm"
   ]
  },
  {
   "cell_type": "code",
   "execution_count": 90,
   "id": "409b4eb5-2cff-46ed-8606-b9f07f88aae4",
   "metadata": {},
   "outputs": [
    {
     "name": "stdout",
     "output_type": "stream",
     "text": [
      "palindorm\n"
     ]
    }
   ],
   "source": [
    "list1=[1,2,1]\n",
    "copy_list=list1.copy()\n",
    "copy_list.reverse()\n",
    "if(copy_list==list1):\n",
    "    print(\"palindorm\")\n",
    "else:\n",
    "    print(\"note palindorm\")"
   ]
  },
  {
   "cell_type": "code",
   "execution_count": 92,
   "id": "7ffe81c3-1ff5-44a6-9f53-d65946abcdf4",
   "metadata": {},
   "outputs": [
    {
     "name": "stdout",
     "output_type": "stream",
     "text": [
      "note palindorm\n"
     ]
    }
   ],
   "source": [
    "list1=[1,2,3]\n",
    "copy_list=list1.copy()\n",
    "copy_list.reverse()\n",
    "if(copy_list==list1):\n",
    "    print(\"palindorm\")\n",
    "else:\n",
    "    print(\"note palindorm\")"
   ]
  },
  {
   "cell_type": "code",
   "execution_count": 96,
   "id": "8abcea57-2ec9-4bb2-9938-3c40baad74d2",
   "metadata": {},
   "outputs": [
    {
     "name": "stdout",
     "output_type": "stream",
     "text": [
      "3\n"
     ]
    }
   ],
   "source": [
    "grades=(\"C\",\"D\",\"A\",\"A\",\"B\",\"B\",\"A\")\n",
    "print(grades.count(\"A\"))\n"
   ]
  },
  {
   "cell_type": "code",
   "execution_count": 100,
   "id": "0a99c151-fd0a-4111-af2f-97dc8bf17941",
   "metadata": {},
   "outputs": [
    {
     "name": "stdout",
     "output_type": "stream",
     "text": [
      "['A', 'A', 'A', 'B', 'B', 'C', 'D']\n"
     ]
    }
   ],
   "source": [
    "grades=[\"C\",\"D\",\"A\",\"A\",\"B\",\"B\",\"A\"]\n",
    "grades.sort()\n",
    "print(grades)"
   ]
  },
  {
   "cell_type": "code",
   "execution_count": null,
   "id": "7cc311e2-9be3-4a79-8508-ed2ba0201186",
   "metadata": {},
   "outputs": [],
   "source": []
  }
 ],
 "metadata": {
  "kernelspec": {
   "display_name": "Python 3 (ipykernel)",
   "language": "python",
   "name": "python3"
  },
  "language_info": {
   "codemirror_mode": {
    "name": "ipython",
    "version": 3
   },
   "file_extension": ".py",
   "mimetype": "text/x-python",
   "name": "python",
   "nbconvert_exporter": "python",
   "pygments_lexer": "ipython3",
   "version": "3.12.7"
  }
 },
 "nbformat": 4,
 "nbformat_minor": 5
}
