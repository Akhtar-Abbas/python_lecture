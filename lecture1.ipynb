{
 "cells": [
  {
   "cell_type": "markdown",
   "id": "4d93be3f-3d0a-4820-a5f0-b860bb47593a",
   "metadata": {},
   "source": [
    "# String"
   ]
  },
  {
   "cell_type": "markdown",
   "id": "ef676ba7-05f0-44f8-a4f9-07ad386c18d3",
   "metadata": {},
   "source": [
    "- string can be store in single, double and triple quotation"
   ]
  },
  {
   "cell_type": "code",
   "execution_count": 7,
   "id": "045c4def-3dbc-4655-b639-136e778fb42e",
   "metadata": {},
   "outputs": [
    {
     "data": {
      "text/plain": [
       "'akhtar'"
      ]
     },
     "execution_count": 7,
     "metadata": {},
     "output_type": "execute_result"
    }
   ],
   "source": [
    "str1=\"akhtar\"\n",
    "str1"
   ]
  },
  {
   "cell_type": "code",
   "execution_count": 9,
   "id": "9681e6e8-caa6-4fb5-8e42-a84eed0ab3a5",
   "metadata": {},
   "outputs": [
    {
     "data": {
      "text/plain": [
       "'abbas'"
      ]
     },
     "execution_count": 9,
     "metadata": {},
     "output_type": "execute_result"
    }
   ],
   "source": [
    "str2='abbas'\n",
    "str2"
   ]
  },
  {
   "cell_type": "code",
   "execution_count": 11,
   "id": "7a17026a-504e-4176-9037-2953aa315fa8",
   "metadata": {},
   "outputs": [
    {
     "data": {
      "text/plain": [
       "'akhtar'"
      ]
     },
     "execution_count": 11,
     "metadata": {},
     "output_type": "execute_result"
    }
   ],
   "source": [
    "str3=\"\"\"akhtar\"\"\"\n",
    "str3"
   ]
  },
  {
   "cell_type": "markdown",
   "id": "a9eaf76f-8d28-4aec-946f-22efadefae21",
   "metadata": {},
   "source": [
    "- when we use apostropht in our string then we use doule or triple quotation"
   ]
  },
  {
   "cell_type": "code",
   "execution_count": 14,
   "id": "6876dc2d-4516-48e3-9e59-2ae5a55c10f2",
   "metadata": {},
   "outputs": [
    {
     "data": {
      "text/plain": [
       "\"akhtar abbas's\""
      ]
     },
     "execution_count": 14,
     "metadata": {},
     "output_type": "execute_result"
    }
   ],
   "source": [
    "name=\"akhtar abbas's\"\n",
    "name"
   ]
  },
  {
   "cell_type": "markdown",
   "id": "0c071290-83e1-42b8-a66f-37706e6ec6d0",
   "metadata": {},
   "source": [
    "- if we want to line between two sentence in same string then we use escape squence character"
   ]
  },
  {
   "cell_type": "markdown",
   "id": "7b8ef3c8-c9ff-47a6-912e-2d2a1c607643",
   "metadata": {},
   "source": [
    "## escape aquence character\n",
    "- use for formatting"
   ]
  },
  {
   "cell_type": "code",
   "execution_count": 37,
   "id": "570d4411-3b2b-4473-8680-e450e528d8c6",
   "metadata": {},
   "outputs": [
    {
     "name": "stdout",
     "output_type": "stream",
     "text": [
      "this is string. we are creatin in python\n"
     ]
    }
   ],
   "source": [
    "str5=\"this is string. we are creatin in python\"\n",
    "print(str5)"
   ]
  },
  {
   "cell_type": "markdown",
   "id": "ff179824-c931-4d96-b709-2502dcfd5932",
   "metadata": {},
   "source": [
    "- for line break we use \\n"
   ]
  },
  {
   "cell_type": "code",
   "execution_count": 33,
   "id": "bd6f5649-12b3-4fa5-ab65-992203bac25f",
   "metadata": {},
   "outputs": [
    {
     "name": "stdout",
     "output_type": "stream",
     "text": [
      "my name is akhtar.\n",
      " i form skardu\n"
     ]
    }
   ],
   "source": [
    "str6=\"my name is akhtar.\\n i form skardu\"\n",
    "print(str6)"
   ]
  },
  {
   "cell_type": "code",
   "execution_count": 39,
   "id": "978ecab2-bf44-4d6c-9840-94d8ae988ab6",
   "metadata": {},
   "outputs": [
    {
     "name": "stdout",
     "output_type": "stream",
     "text": [
      "my name is akhtar.\t i form skardu\n"
     ]
    }
   ],
   "source": [
    "str6=\"my name is akhtar.\\t i form skardu\"\n",
    "print(str6)"
   ]
  },
  {
   "cell_type": "markdown",
   "id": "b6e4031f-2e2d-46e0-bfa7-c5a90cbd0c6f",
   "metadata": {},
   "source": [
    "- for tab we use \\t"
   ]
  },
  {
   "cell_type": "markdown",
   "id": "fdf5823f-aca0-4ed6-b77b-44fce15b1cd7",
   "metadata": {},
   "source": [
    "## concanitation"
   ]
  },
  {
   "cell_type": "markdown",
   "id": "d81e0f89-021f-4495-8b69-cecbf3dc1464",
   "metadata": {},
   "source": [
    "- use for add two string"
   ]
  },
  {
   "cell_type": "code",
   "execution_count": 52,
   "id": "f1614a08-4e91-41df-af1c-28a505b0cb54",
   "metadata": {},
   "outputs": [
    {
     "name": "stdout",
     "output_type": "stream",
     "text": [
      "apna college\n"
     ]
    }
   ],
   "source": [
    "str1=\"apna\"\n",
    "str2=\" college\"\n",
    "print(str1+str2)"
   ]
  },
  {
   "cell_type": "markdown",
   "id": "4bf14d50-13cd-44d2-9bb5-2746abd1413e",
   "metadata": {},
   "source": [
    "### length"
   ]
  },
  {
   "cell_type": "markdown",
   "id": "7fc29806-014c-4dd6-8195-249b4c99a043",
   "metadata": {},
   "source": [
    "- use to find the length of string"
   ]
  },
  {
   "cell_type": "code",
   "execution_count": 56,
   "id": "f6ddf2c0-6509-4be1-9af1-66daec9989de",
   "metadata": {},
   "outputs": [
    {
     "name": "stdout",
     "output_type": "stream",
     "text": [
      "6\n"
     ]
    }
   ],
   "source": [
    "name=\"akhtar\"\n",
    "print(len(name))"
   ]
  },
  {
   "cell_type": "code",
   "execution_count": 58,
   "id": "0f4b4f4c-9136-496d-8efa-09197688fafa",
   "metadata": {},
   "outputs": [
    {
     "name": "stdout",
     "output_type": "stream",
     "text": [
      "13\n"
     ]
    }
   ],
   "source": [
    "name=\"akhtar\"+\" \"+\"akhtar\"\n",
    "print(len(name))"
   ]
  },
  {
   "cell_type": "markdown",
   "id": "ccbd59ed-af14-4b49-bb70-0dfd945e6c3e",
   "metadata": {},
   "source": [
    "### indexing"
   ]
  },
  {
   "cell_type": "markdown",
   "id": "3dee3ce2-3d03-4dc1-a797-2167b590509d",
   "metadata": {},
   "source": [
    "- indexing start form 0"
   ]
  },
  {
   "cell_type": "code",
   "execution_count": 62,
   "id": "30eb4743-5dbe-416e-aefd-2cb2521ec1ff",
   "metadata": {},
   "outputs": [
    {
     "name": "stdout",
     "output_type": "stream",
     "text": [
      "a\n"
     ]
    }
   ],
   "source": [
    "str=\"akhtar\"\n",
    "print(str[0])"
   ]
  },
  {
   "cell_type": "markdown",
   "id": "89387144-c251-4d2e-92ab-e12debaff939",
   "metadata": {},
   "source": [
    "- index help to access character"
   ]
  },
  {
   "cell_type": "markdown",
   "id": "e25d43a8-ea80-4cfd-8880-47762b8dbbef",
   "metadata": {},
   "source": [
    "- through indexing we can access but not manupulate them"
   ]
  },
  {
   "cell_type": "markdown",
   "id": "d71c651d-e1a4-4a64-a767-a99a20e81c07",
   "metadata": {},
   "source": [
    "# Slicing"
   ]
  },
  {
   "cell_type": "markdown",
   "id": "d84f0d0b-e7a9-4b11-ac07-a8143b17a224",
   "metadata": {},
   "source": [
    "- access part of string"
   ]
  },
  {
   "cell_type": "code",
   "execution_count": 5,
   "id": "dfeffae2-7502-497d-890c-2b564e390f19",
   "metadata": {},
   "outputs": [
    {
     "name": "stdout",
     "output_type": "stream",
     "text": [
      "pna\n"
     ]
    }
   ],
   "source": [
    "str=\"apnacollege\"\n",
    "print(str[1:4])"
   ]
  },
  {
   "cell_type": "markdown",
   "id": "10d0db64-bdf5-436d-b5fd-c51406c267d7",
   "metadata": {},
   "source": [
    "- in slicing the starting idex character include but last character not include"
   ]
  },
  {
   "cell_type": "code",
   "execution_count": 10,
   "id": "0d7b4470-d15e-4358-99b6-7bfac73c6f32",
   "metadata": {},
   "outputs": [
    {
     "name": "stdout",
     "output_type": "stream",
     "text": [
      "college\n"
     ]
    }
   ],
   "source": [
    "str=\"apnacollege\"\n",
    "print(str[4:11])"
   ]
  },
  {
   "cell_type": "code",
   "execution_count": 14,
   "id": "73f9d3f9-cb71-47a9-adb1-4d55d60c7241",
   "metadata": {},
   "outputs": [
    {
     "name": "stdout",
     "output_type": "stream",
     "text": [
      "college\n"
     ]
    }
   ],
   "source": [
    "str=\"apnacollege\"\n",
    "print(str[4:len(str)])"
   ]
  },
  {
   "cell_type": "code",
   "execution_count": 18,
   "id": "58c966b5-adaa-4167-9431-a07bf60a0c0c",
   "metadata": {},
   "outputs": [
    {
     "name": "stdout",
     "output_type": "stream",
     "text": [
      "college\n"
     ]
    }
   ],
   "source": [
    "str=\"apnacollege\"\n",
    "print(str[4:])"
   ]
  },
  {
   "cell_type": "code",
   "execution_count": 22,
   "id": "33961490-3748-4dda-aaa1-b3aeb7a4fc7a",
   "metadata": {},
   "outputs": [
    {
     "name": "stdout",
     "output_type": "stream",
     "text": [
      "akhtar\n"
     ]
    }
   ],
   "source": [
    "name=\"akhtar abbas\"\n",
    "print(name[:6])"
   ]
  },
  {
   "cell_type": "markdown",
   "id": "dfbd1553-878e-4291-8cdf-760fa83844e8",
   "metadata": {},
   "source": [
    "- in slicing if we not mention the initial or last index then python fill it automatically"
   ]
  },
  {
   "cell_type": "markdown",
   "id": "c8bfc557-baad-4022-bf98-c5228bfe08b2",
   "metadata": {},
   "source": [
    "### negative indexing"
   ]
  },
  {
   "cell_type": "markdown",
   "id": "ea1c12e0-0b4e-46c9-b97a-65f17a52c209",
   "metadata": {},
   "source": [
    "- negative indexing mean indexing from right to left"
   ]
  },
  {
   "cell_type": "markdown",
   "id": "c2ab4a06-4b0a-4c7f-99fb-e4ea373dae96",
   "metadata": {},
   "source": [
    "- positive indexing start from 0 and negative indexing from -1"
   ]
  },
  {
   "cell_type": "code",
   "execution_count": 34,
   "id": "be34ce3e-6a03-4225-b577-90d2027c82cf",
   "metadata": {},
   "outputs": [
    {
     "name": "stdout",
     "output_type": "stream",
     "text": [
      "tar\n"
     ]
    }
   ],
   "source": [
    "name=\"akhtar\"\n",
    "print(name[-3:-1])"
   ]
  },
  {
   "cell_type": "code",
   "execution_count": 36,
   "id": "48d38ada-5d37-4c19-89e1-dfa2593663e3",
   "metadata": {},
   "outputs": [
    {
     "name": "stdout",
     "output_type": "stream",
     "text": [
      "app\n"
     ]
    }
   ],
   "source": [
    "fruit=\"apple\"\n",
    "print(fruit[-5:-2])\n",
    "                                                                    "
   ]
  },
  {
   "cell_type": "markdown",
   "id": "c2a6a1e1-e2c7-47b7-a51e-bfa767e34ff0",
   "metadata": {},
   "source": [
    "  # String Function"
   ]
  },
  {
   "cell_type": "code",
   "execution_count": 10,
   "id": "e4c5c1f1-4a21-4f34-8afc-abb2613e71b8",
   "metadata": {},
   "outputs": [
    {
     "name": "stdout",
     "output_type": "stream",
     "text": [
      "True\n"
     ]
    }
   ],
   "source": [
    "str= \"i doing my python course form apna college\"\n",
    "print(str.endswith(\"ege\"))"
   ]
  },
  {
   "cell_type": "markdown",
   "id": "c974a957-3cb2-4e7f-a7e7-e482286e7b46",
   "metadata": {},
   "source": [
    "- the endswith() function is use to find last character if match then result will be ture and vice versa"
   ]
  },
  {
   "cell_type": "code",
   "execution_count": 16,
   "id": "e3f5eba3-c80e-4a88-9885-76748e892b32",
   "metadata": {},
   "outputs": [
    {
     "name": "stdout",
     "output_type": "stream",
     "text": [
      "True\n"
     ]
    }
   ],
   "source": [
    "name =\"akhtar abbas\"\n",
    "print(name.endswith(\"bbas\"))"
   ]
  },
  {
   "cell_type": "markdown",
   "id": "ecf7dd68-ada1-4a0f-9d58-692ff0e83726",
   "metadata": {},
   "source": [
    "- capitalize() function is used to capitalize the first latter"
   ]
  },
  {
   "cell_type": "code",
   "execution_count": 19,
   "id": "15aec94c-5cac-468b-93c6-3e6ac9f96a23",
   "metadata": {},
   "outputs": [
    {
     "name": "stdout",
     "output_type": "stream",
     "text": [
      "Akhtar\n"
     ]
    }
   ],
   "source": [
    "name=\"akhtar\"\n",
    "print(name.capitalize())"
   ]
  },
  {
   "cell_type": "code",
   "execution_count": 23,
   "id": "5a30f965-5423-4f09-b5d1-3f3e68992930",
   "metadata": {},
   "outputs": [
    {
     "name": "stdout",
     "output_type": "stream",
     "text": [
      "Akhtar\n",
      "akhtar\n"
     ]
    }
   ],
   "source": [
    "name=\"akhtar\"\n",
    "print(name.capitalize())\n",
    "print(name)"
   ]
  },
  {
   "cell_type": "markdown",
   "id": "82d56747-7e6f-458c-b237-3d022b7216ee",
   "metadata": {},
   "source": [
    "- you notice in above cell capitalize() function not change its its origional string but create new string "
   ]
  },
  {
   "cell_type": "code",
   "execution_count": 26,
   "id": "6e5f7884-f86e-41cc-a323-097c29f391a4",
   "metadata": {},
   "outputs": [
    {
     "name": "stdout",
     "output_type": "stream",
     "text": [
      "Akhtar\n"
     ]
    }
   ],
   "source": [
    "name=\"akhtar\"\n",
    "name=name.capitalize()\n",
    "print(name)"
   ]
  },
  {
   "cell_type": "markdown",
   "id": "7c3d3412-fb53-4799-b2a8-e3a700e82479",
   "metadata": {},
   "source": [
    "- if we want to change any latter with another latter the use replace() function"
   ]
  },
  {
   "cell_type": "code",
   "execution_count": 31,
   "id": "ba3f8572-7d77-47e0-a2d5-4e481ba7e1f0",
   "metadata": {},
   "outputs": [
    {
     "name": "stdout",
     "output_type": "stream",
     "text": [
      "ekhter  ebbes\n"
     ]
    }
   ],
   "source": [
    "name=\"akhtar  abbas\"\n",
    "print(name.replace(\"a\",\"e\"))"
   ]
  },
  {
   "cell_type": "code",
   "execution_count": 43,
   "id": "30102f66-99d1-4917-910a-31707e979df4",
   "metadata": {},
   "outputs": [
    {
     "name": "stdout",
     "output_type": "stream",
     "text": [
      "i am studing python from apna college\n"
     ]
    }
   ],
   "source": [
    "school=\"i am studing java from apna college\"\n",
    "print(school.replace(\"java\",\"python\"))"
   ]
  },
  {
   "cell_type": "code",
   "execution_count": 45,
   "id": "87b680ed-18fd-446e-a108-cc8aca5d5ee1",
   "metadata": {},
   "outputs": [
    {
     "name": "stdout",
     "output_type": "stream",
     "text": [
      "5\n"
     ]
    }
   ],
   "source": [
    "name=\"akhtar abbas\"\n",
    "print(name.find(\"r\"))"
   ]
  },
  {
   "cell_type": "markdown",
   "id": "02679084-a113-42a8-9121-d7192c285cbd",
   "metadata": {},
   "source": [
    "- find() function is use to find the latter or word in string if give the first its first idex of latter or word firt time in string"
   ]
  },
  {
   "cell_type": "code",
   "execution_count": 48,
   "id": "6b483737-ccb5-40dc-95a8-40979b2547fb",
   "metadata": {},
   "outputs": [
    {
     "name": "stdout",
     "output_type": "stream",
     "text": [
      "19\n"
     ]
    }
   ],
   "source": [
    "school=\"i persuising bs cs form smiu karachi\"\n",
    "print(school.find(\"form\"))"
   ]
  },
  {
   "cell_type": "code",
   "execution_count": 50,
   "id": "c1a8c851-0645-477f-ab56-e6888efee21b",
   "metadata": {},
   "outputs": [
    {
     "name": "stdout",
     "output_type": "stream",
     "text": [
      "form\n"
     ]
    }
   ],
   "source": [
    "print(school[19:23])"
   ]
  },
  {
   "cell_type": "code",
   "execution_count": 52,
   "id": "356b747c-c419-41ed-aaba-3edc58ebe2df",
   "metadata": {},
   "outputs": [
    {
     "name": "stdout",
     "output_type": "stream",
     "text": [
      "-1\n"
     ]
    }
   ],
   "source": [
    "name=\"akhtar abbas\"\n",
    "print(name.find(\"e\"))"
   ]
  },
  {
   "cell_type": "markdown",
   "id": "0edc6167-8fe7-4a69-8dc5-79e243ad3c7d",
   "metadata": {},
   "source": [
    "- if we want to find character or word in string that are not present in string the the output will be -1"
   ]
  },
  {
   "cell_type": "markdown",
   "id": "45d380f1-6e1b-4937-8f37-707b1528a04d",
   "metadata": {},
   "source": [
    "- count() function is used to fing occurences of substring in a string"
   ]
  },
  {
   "cell_type": "code",
   "execution_count": 56,
   "id": "ae9ad3b6-465b-4056-86fc-1b3a335da072",
   "metadata": {},
   "outputs": [
    {
     "name": "stdout",
     "output_type": "stream",
     "text": [
      "1\n"
     ]
    }
   ],
   "source": [
    "uni=\"i doing my degree form smiu\"\n",
    "print(uni.count(\"degree\"))"
   ]
  },
  {
   "cell_type": "code",
   "execution_count": 62,
   "id": "51270e05-255e-43f6-b1b6-8e1a78b28359",
   "metadata": {},
   "outputs": [
    {
     "name": "stdin",
     "output_type": "stream",
     "text": [
      "enter your name: akhtar\n"
     ]
    },
    {
     "name": "stdout",
     "output_type": "stream",
     "text": [
      "length of your name is: 6\n"
     ]
    }
   ],
   "source": [
    "name=input(\"enter your name:\", )\n",
    "print(\"length of your name is:\" ,len(name))"
   ]
  },
  {
   "cell_type": "code",
   "execution_count": 64,
   "id": "e6194f8e-85a5-4a35-99e6-59d7cc8230b2",
   "metadata": {},
   "outputs": [
    {
     "name": "stdout",
     "output_type": "stream",
     "text": [
      "2\n"
     ]
    }
   ],
   "source": [
    "name= \"akhtar abba$ form $kardu\"\n",
    "print(name.count(\"$\"))"
   ]
  },
  {
   "cell_type": "markdown",
   "id": "d022e6ab-7b57-43e2-b391-93648485f477",
   "metadata": {},
   "source": [
    "# Conditional Statement"
   ]
  },
  {
   "cell_type": "code",
   "execution_count": 73,
   "id": "cad59e6b-dbba-4d78-b6ad-52d8714af3cc",
   "metadata": {},
   "outputs": [
    {
     "name": "stdin",
     "output_type": "stream",
     "text": [
      "enter your to check eligible for vote 34\n"
     ]
    },
    {
     "name": "stdout",
     "output_type": "stream",
     "text": [
      "you are eligible for voting\n"
     ]
    }
   ],
   "source": [
    "age=int(input('enter your to check eligible for vote'))\n",
    "if(age>=18):\n",
    "    print(\"you are eligible for voting\")\n",
    "else:\n",
    "    print(\"you are not eligible for voting\")"
   ]
  },
  {
   "cell_type": "code",
   "execution_count": 79,
   "id": "ff13699d-1ed3-41ed-849a-0a9b2a117169",
   "metadata": {},
   "outputs": [
    {
     "name": "stdin",
     "output_type": "stream",
     "text": [
      "enter light condition on traffic signal blue\n"
     ]
    },
    {
     "name": "stdout",
     "output_type": "stream",
     "text": [
      "look\n"
     ]
    }
   ],
   "source": [
    "light=input(\"enter light condition on traffic signal\",)\n",
    "if(light==\"red\"):\n",
    "    print(\"stop\")\n",
    "elif(light==\"green\"):\n",
    "    print(\"go\")\n",
    "else:\n",
    "    print(\"look\")"
   ]
  },
  {
   "cell_type": "markdown",
   "id": "fe0712bb-a533-4d3f-87f5-093e0959ba7b",
   "metadata": {},
   "source": [
    "### indentation"
   ]
  },
  {
   "cell_type": "markdown",
   "id": "725ad51b-1c0d-471b-a53c-53ab72f18442",
   "metadata": {},
   "source": [
    "- in python we use space called indentation for proper formatting in other language use {} for formattion"
   ]
  },
  {
   "cell_type": "code",
   "execution_count": 89,
   "id": "fdd5c659-08c3-4a84-81a9-d6b55ca9029e",
   "metadata": {},
   "outputs": [
    {
     "name": "stdin",
     "output_type": "stream",
     "text": [
      "Enter your marks to you know your grades 69\n"
     ]
    },
    {
     "name": "stdout",
     "output_type": "stream",
     "text": [
      "Grade: D\n"
     ]
    }
   ],
   "source": [
    "marks=int(input('Enter your marks to you know your grades'))\n",
    "if(marks>=90 and marks<=100):\n",
    "    print(\"Grade:A\")\n",
    "elif(marks>=80 and marks<=89):\n",
    "    print(\"Grade:B\")\n",
    "elif(marks>=70 and marks<=79):\n",
    "    print(\"Grade:C\")\n",
    "else:\n",
    "    print(\"Grade: D\")\n",
    "    "
   ]
  },
  {
   "cell_type": "markdown",
   "id": "b712b706-80c8-4a83-be07-ca7e3c6ab14e",
   "metadata": {},
   "source": [
    "### nesting condition"
   ]
  },
  {
   "cell_type": "code",
   "execution_count": 110,
   "id": "6887dc29-32cc-43c4-b2ef-76507f3059cd",
   "metadata": {},
   "outputs": [
    {
     "name": "stdin",
     "output_type": "stream",
     "text": [
      "enter your age: 23\n",
      "enter have licence for yes or not for no no\n"
     ]
    },
    {
     "name": "stdout",
     "output_type": "stream",
     "text": [
      "you have no licence therefor not drive\n"
     ]
    }
   ],
   "source": [
    "age=int(input(\"enter your age:\",))\n",
    "if(age>=18):\n",
    "    lic=input(\"enter have licence for yes or not for no\",)\n",
    "    if(lic==\"yes\"):\n",
    "        print(\"you can drive\")\n",
    "    elif(lic==\"no\"):\n",
    "        print(\"you have no licence therefor not drive\")\n",
    "else:\n",
    "     print(\"you cannot drive\")   "
   ]
  },
  {
   "cell_type": "markdown",
   "id": "046d39b3-3335-4a93-8d90-0bd9c4ee8dd7",
   "metadata": {},
   "source": [
    "### practice question"
   ]
  },
  {
   "cell_type": "code",
   "execution_count": 117,
   "id": "7ededd75-76a3-4210-bf79-d8e1c6f65ff6",
   "metadata": {},
   "outputs": [
    {
     "name": "stdin",
     "output_type": "stream",
     "text": [
      "enter number to check even or odd 3\n"
     ]
    },
    {
     "name": "stdout",
     "output_type": "stream",
     "text": [
      "odd\n"
     ]
    }
   ],
   "source": [
    "num=int(input(\"enter number to check even or odd\"))\n",
    "if(num%2==0):\n",
    "    print(\"Even\")\n",
    "elif(num%2!=0):\n",
    "    print(\"odd\")\n",
    "    "
   ]
  },
  {
   "cell_type": "code",
   "execution_count": 125,
   "id": "5ae585bb-7052-495b-83e2-cd2f789db4a7",
   "metadata": {},
   "outputs": [
    {
     "name": "stdout",
     "output_type": "stream",
     "text": [
      "enter three number\n"
     ]
    },
    {
     "name": "stdin",
     "output_type": "stream",
     "text": [
      "a 10\n",
      "b 20\n",
      "c 30\n"
     ]
    },
    {
     "name": "stdout",
     "output_type": "stream",
     "text": [
      "c is greater nuber\n"
     ]
    }
   ],
   "source": [
    "print(\"enter three number\")\n",
    "a=int(input('a',))\n",
    "b=int(input('b',))\n",
    "c=int(input('c',))\n",
    "if(a>b and a>c):\n",
    "  print(\"a is greater number\")\n",
    "elif(b>a and b>c):\n",
    "    print(\"b is greater number\")\n",
    "elif(c>a and c>b):\n",
    "    print(\"c is greater nuber\")"
   ]
  },
  {
   "cell_type": "markdown",
   "id": "eab3e7da-e458-4ef9-aa78-3ba43042d76d",
   "metadata": {},
   "source": [
    "- write programme to check mutiple of 7"
   ]
  },
  {
   "cell_type": "code",
   "execution_count": 136,
   "id": "63645ba4-8f12-4289-9547-610b23d07185",
   "metadata": {},
   "outputs": [
    {
     "name": "stdin",
     "output_type": "stream",
     "text": [
      "enter number 4\n"
     ]
    },
    {
     "name": "stdout",
     "output_type": "stream",
     "text": [
      "not multiple of 7\n"
     ]
    }
   ],
   "source": [
    "num=int(input(\"enter number\",))\n",
    "if(num%7==0):\n",
    "    print(\"yes mutiple of 7\")\n",
    "else:\n",
    "    print(\"not multiple of 7\")"
   ]
  },
  {
   "cell_type": "code",
   "execution_count": null,
   "id": "6d4a9b49-fcbf-44a9-9dff-95c840a48448",
   "metadata": {},
   "outputs": [],
   "source": []
  }
 ],
 "metadata": {
  "kernelspec": {
   "display_name": "Python 3 (ipykernel)",
   "language": "python",
   "name": "python3"
  },
  "language_info": {
   "codemirror_mode": {
    "name": "ipython",
    "version": 3
   },
   "file_extension": ".py",
   "mimetype": "text/x-python",
   "name": "python",
   "nbconvert_exporter": "python",
   "pygments_lexer": "ipython3",
   "version": "3.12.7"
  }
 },
 "nbformat": 4,
 "nbformat_minor": 5
}
