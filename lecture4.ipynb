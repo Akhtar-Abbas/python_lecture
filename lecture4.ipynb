{
 "cells": [
  {
   "cell_type": "markdown",
   "id": "84f7e817-dba2-4f6b-8e59-3e46e62271a6",
   "metadata": {},
   "source": [
    "# Loop"
   ]
  },
  {
   "cell_type": "markdown",
   "id": "8b7b5db2-539a-4fe6-8785-1c4d793e4182",
   "metadata": {},
   "source": [
    "- loop are used to repeate instruction"
   ]
  },
  {
   "cell_type": "markdown",
   "id": "52598b85-de18-4e5c-9d44-56b9f352de08",
   "metadata": {},
   "source": [
    "### while loop"
   ]
  },
  {
   "cell_type": "code",
   "execution_count": 3,
   "id": "21aa63fa-e61b-480b-a330-c568bd701108",
   "metadata": {},
   "outputs": [
    {
     "name": "stdout",
     "output_type": "stream",
     "text": [
      "akhtar\n",
      "akhtar\n",
      "akhtar\n",
      "akhtar\n",
      "akhtar\n"
     ]
    }
   ],
   "source": [
    "i=1\n",
    "while i<=5:\n",
    "    print(\"akhtar\")\n",
    "    i+=1"
   ]
  },
  {
   "cell_type": "code",
   "execution_count": 5,
   "id": "f096a558-c257-42df-b9b6-351556458090",
   "metadata": {},
   "outputs": [
    {
     "name": "stdout",
     "output_type": "stream",
     "text": [
      "akhtar abbas 1\n",
      "akhtar abbas 2\n",
      "akhtar abbas 3\n",
      "akhtar abbas 4\n",
      "akhtar abbas 5\n",
      "akhtar abbas 6\n",
      "akhtar abbas 7\n",
      "akhtar abbas 8\n",
      "akhtar abbas 9\n",
      "akhtar abbas 10\n",
      "akhtar abbas 11\n",
      "akhtar abbas 12\n",
      "akhtar abbas 13\n",
      "akhtar abbas 14\n",
      "akhtar abbas 15\n",
      "akhtar abbas 16\n",
      "akhtar abbas 17\n",
      "akhtar abbas 18\n",
      "akhtar abbas 19\n",
      "akhtar abbas 20\n",
      "akhtar abbas 21\n",
      "akhtar abbas 22\n",
      "akhtar abbas 23\n",
      "akhtar abbas 24\n",
      "akhtar abbas 25\n",
      "akhtar abbas 26\n",
      "akhtar abbas 27\n",
      "akhtar abbas 28\n",
      "akhtar abbas 29\n",
      "akhtar abbas 30\n",
      "akhtar abbas 31\n",
      "akhtar abbas 32\n",
      "akhtar abbas 33\n",
      "akhtar abbas 34\n",
      "akhtar abbas 35\n",
      "akhtar abbas 36\n",
      "akhtar abbas 37\n",
      "akhtar abbas 38\n",
      "akhtar abbas 39\n",
      "akhtar abbas 40\n",
      "akhtar abbas 41\n",
      "akhtar abbas 42\n",
      "akhtar abbas 43\n",
      "akhtar abbas 44\n",
      "akhtar abbas 45\n",
      "akhtar abbas 46\n",
      "akhtar abbas 47\n",
      "akhtar abbas 48\n",
      "akhtar abbas 49\n",
      "akhtar abbas 50\n",
      "akhtar abbas 51\n",
      "akhtar abbas 52\n",
      "akhtar abbas 53\n",
      "akhtar abbas 54\n",
      "akhtar abbas 55\n",
      "akhtar abbas 56\n",
      "akhtar abbas 57\n",
      "akhtar abbas 58\n",
      "akhtar abbas 59\n",
      "akhtar abbas 60\n",
      "akhtar abbas 61\n",
      "akhtar abbas 62\n",
      "akhtar abbas 63\n",
      "akhtar abbas 64\n",
      "akhtar abbas 65\n",
      "akhtar abbas 66\n",
      "akhtar abbas 67\n",
      "akhtar abbas 68\n",
      "akhtar abbas 69\n",
      "akhtar abbas 70\n",
      "akhtar abbas 71\n",
      "akhtar abbas 72\n",
      "akhtar abbas 73\n",
      "akhtar abbas 74\n",
      "akhtar abbas 75\n",
      "akhtar abbas 76\n",
      "akhtar abbas 77\n",
      "akhtar abbas 78\n",
      "akhtar abbas 79\n",
      "akhtar abbas 80\n",
      "akhtar abbas 81\n",
      "akhtar abbas 82\n",
      "akhtar abbas 83\n",
      "akhtar abbas 84\n",
      "akhtar abbas 85\n",
      "akhtar abbas 86\n",
      "akhtar abbas 87\n",
      "akhtar abbas 88\n",
      "akhtar abbas 89\n",
      "akhtar abbas 90\n",
      "akhtar abbas 91\n",
      "akhtar abbas 92\n",
      "akhtar abbas 93\n",
      "akhtar abbas 94\n",
      "akhtar abbas 95\n",
      "akhtar abbas 96\n",
      "akhtar abbas 97\n",
      "akhtar abbas 98\n",
      "akhtar abbas 99\n",
      "akhtar abbas 100\n",
      "akhtar abbas 101\n",
      "akhtar abbas 102\n",
      "akhtar abbas 103\n",
      "akhtar abbas 104\n",
      "akhtar abbas 105\n",
      "akhtar abbas 106\n",
      "akhtar abbas 107\n",
      "akhtar abbas 108\n",
      "akhtar abbas 109\n",
      "akhtar abbas 110\n",
      "akhtar abbas 111\n",
      "akhtar abbas 112\n",
      "akhtar abbas 113\n",
      "akhtar abbas 114\n",
      "akhtar abbas 115\n",
      "akhtar abbas 116\n",
      "akhtar abbas 117\n",
      "akhtar abbas 118\n",
      "akhtar abbas 119\n",
      "akhtar abbas 120\n",
      "akhtar abbas 121\n",
      "akhtar abbas 122\n",
      "akhtar abbas 123\n",
      "akhtar abbas 124\n",
      "akhtar abbas 125\n",
      "akhtar abbas 126\n",
      "akhtar abbas 127\n",
      "akhtar abbas 128\n",
      "akhtar abbas 129\n",
      "akhtar abbas 130\n",
      "akhtar abbas 131\n",
      "akhtar abbas 132\n",
      "akhtar abbas 133\n",
      "akhtar abbas 134\n",
      "akhtar abbas 135\n",
      "akhtar abbas 136\n",
      "akhtar abbas 137\n",
      "akhtar abbas 138\n",
      "akhtar abbas 139\n",
      "akhtar abbas 140\n",
      "akhtar abbas 141\n",
      "akhtar abbas 142\n",
      "akhtar abbas 143\n",
      "akhtar abbas 144\n",
      "akhtar abbas 145\n",
      "akhtar abbas 146\n",
      "akhtar abbas 147\n",
      "akhtar abbas 148\n",
      "akhtar abbas 149\n",
      "akhtar abbas 150\n",
      "akhtar abbas 151\n",
      "akhtar abbas 152\n",
      "akhtar abbas 153\n",
      "akhtar abbas 154\n",
      "akhtar abbas 155\n",
      "akhtar abbas 156\n",
      "akhtar abbas 157\n",
      "akhtar abbas 158\n",
      "akhtar abbas 159\n",
      "akhtar abbas 160\n",
      "akhtar abbas 161\n",
      "akhtar abbas 162\n",
      "akhtar abbas 163\n",
      "akhtar abbas 164\n",
      "akhtar abbas 165\n",
      "akhtar abbas 166\n",
      "akhtar abbas 167\n",
      "akhtar abbas 168\n",
      "akhtar abbas 169\n",
      "akhtar abbas 170\n",
      "akhtar abbas 171\n",
      "akhtar abbas 172\n",
      "akhtar abbas 173\n",
      "akhtar abbas 174\n",
      "akhtar abbas 175\n",
      "akhtar abbas 176\n",
      "akhtar abbas 177\n",
      "akhtar abbas 178\n",
      "akhtar abbas 179\n",
      "akhtar abbas 180\n",
      "akhtar abbas 181\n",
      "akhtar abbas 182\n",
      "akhtar abbas 183\n",
      "akhtar abbas 184\n",
      "akhtar abbas 185\n",
      "akhtar abbas 186\n",
      "akhtar abbas 187\n",
      "akhtar abbas 188\n",
      "akhtar abbas 189\n",
      "akhtar abbas 190\n",
      "akhtar abbas 191\n",
      "akhtar abbas 192\n",
      "akhtar abbas 193\n",
      "akhtar abbas 194\n",
      "akhtar abbas 195\n",
      "akhtar abbas 196\n",
      "akhtar abbas 197\n",
      "akhtar abbas 198\n",
      "akhtar abbas 199\n",
      "akhtar abbas 200\n",
      "akhtar abbas 201\n",
      "akhtar abbas 202\n",
      "akhtar abbas 203\n",
      "akhtar abbas 204\n",
      "akhtar abbas 205\n",
      "akhtar abbas 206\n",
      "akhtar abbas 207\n",
      "akhtar abbas 208\n",
      "akhtar abbas 209\n",
      "akhtar abbas 210\n",
      "akhtar abbas 211\n",
      "akhtar abbas 212\n",
      "akhtar abbas 213\n",
      "akhtar abbas 214\n",
      "akhtar abbas 215\n",
      "akhtar abbas 216\n",
      "akhtar abbas 217\n",
      "akhtar abbas 218\n",
      "akhtar abbas 219\n",
      "akhtar abbas 220\n",
      "akhtar abbas 221\n",
      "akhtar abbas 222\n",
      "akhtar abbas 223\n",
      "akhtar abbas 224\n",
      "akhtar abbas 225\n",
      "akhtar abbas 226\n",
      "akhtar abbas 227\n",
      "akhtar abbas 228\n",
      "akhtar abbas 229\n",
      "akhtar abbas 230\n",
      "akhtar abbas 231\n",
      "akhtar abbas 232\n",
      "akhtar abbas 233\n",
      "akhtar abbas 234\n",
      "akhtar abbas 235\n",
      "akhtar abbas 236\n",
      "akhtar abbas 237\n",
      "akhtar abbas 238\n",
      "akhtar abbas 239\n",
      "akhtar abbas 240\n",
      "akhtar abbas 241\n",
      "akhtar abbas 242\n",
      "akhtar abbas 243\n",
      "akhtar abbas 244\n",
      "akhtar abbas 245\n",
      "akhtar abbas 246\n",
      "akhtar abbas 247\n",
      "akhtar abbas 248\n",
      "akhtar abbas 249\n",
      "akhtar abbas 250\n",
      "akhtar abbas 251\n",
      "akhtar abbas 252\n",
      "akhtar abbas 253\n",
      "akhtar abbas 254\n",
      "akhtar abbas 255\n",
      "akhtar abbas 256\n",
      "akhtar abbas 257\n",
      "akhtar abbas 258\n",
      "akhtar abbas 259\n",
      "akhtar abbas 260\n",
      "akhtar abbas 261\n",
      "akhtar abbas 262\n",
      "akhtar abbas 263\n",
      "akhtar abbas 264\n",
      "akhtar abbas 265\n",
      "akhtar abbas 266\n",
      "akhtar abbas 267\n",
      "akhtar abbas 268\n",
      "akhtar abbas 269\n",
      "akhtar abbas 270\n",
      "akhtar abbas 271\n",
      "akhtar abbas 272\n",
      "akhtar abbas 273\n",
      "akhtar abbas 274\n",
      "akhtar abbas 275\n",
      "akhtar abbas 276\n",
      "akhtar abbas 277\n",
      "akhtar abbas 278\n",
      "akhtar abbas 279\n",
      "akhtar abbas 280\n",
      "akhtar abbas 281\n",
      "akhtar abbas 282\n",
      "akhtar abbas 283\n",
      "akhtar abbas 284\n",
      "akhtar abbas 285\n",
      "akhtar abbas 286\n",
      "akhtar abbas 287\n",
      "akhtar abbas 288\n",
      "akhtar abbas 289\n",
      "akhtar abbas 290\n",
      "akhtar abbas 291\n",
      "akhtar abbas 292\n",
      "akhtar abbas 293\n",
      "akhtar abbas 294\n",
      "akhtar abbas 295\n",
      "akhtar abbas 296\n",
      "akhtar abbas 297\n",
      "akhtar abbas 298\n",
      "akhtar abbas 299\n",
      "akhtar abbas 300\n",
      "akhtar abbas 301\n",
      "akhtar abbas 302\n",
      "akhtar abbas 303\n",
      "akhtar abbas 304\n",
      "akhtar abbas 305\n",
      "akhtar abbas 306\n",
      "akhtar abbas 307\n",
      "akhtar abbas 308\n",
      "akhtar abbas 309\n",
      "akhtar abbas 310\n",
      "akhtar abbas 311\n",
      "akhtar abbas 312\n",
      "akhtar abbas 313\n",
      "akhtar abbas 314\n",
      "akhtar abbas 315\n",
      "akhtar abbas 316\n",
      "akhtar abbas 317\n",
      "akhtar abbas 318\n",
      "akhtar abbas 319\n",
      "akhtar abbas 320\n",
      "akhtar abbas 321\n",
      "akhtar abbas 322\n",
      "akhtar abbas 323\n",
      "akhtar abbas 324\n",
      "akhtar abbas 325\n",
      "akhtar abbas 326\n",
      "akhtar abbas 327\n",
      "akhtar abbas 328\n",
      "akhtar abbas 329\n",
      "akhtar abbas 330\n",
      "akhtar abbas 331\n",
      "akhtar abbas 332\n",
      "akhtar abbas 333\n",
      "akhtar abbas 334\n",
      "akhtar abbas 335\n",
      "akhtar abbas 336\n",
      "akhtar abbas 337\n",
      "akhtar abbas 338\n",
      "akhtar abbas 339\n",
      "akhtar abbas 340\n",
      "akhtar abbas 341\n",
      "akhtar abbas 342\n",
      "akhtar abbas 343\n",
      "akhtar abbas 344\n",
      "akhtar abbas 345\n",
      "akhtar abbas 346\n",
      "akhtar abbas 347\n",
      "akhtar abbas 348\n",
      "akhtar abbas 349\n",
      "akhtar abbas 350\n",
      "akhtar abbas 351\n",
      "akhtar abbas 352\n",
      "akhtar abbas 353\n",
      "akhtar abbas 354\n",
      "akhtar abbas 355\n",
      "akhtar abbas 356\n",
      "akhtar abbas 357\n",
      "akhtar abbas 358\n",
      "akhtar abbas 359\n",
      "akhtar abbas 360\n",
      "akhtar abbas 361\n",
      "akhtar abbas 362\n",
      "akhtar abbas 363\n",
      "akhtar abbas 364\n",
      "akhtar abbas 365\n",
      "akhtar abbas 366\n",
      "akhtar abbas 367\n",
      "akhtar abbas 368\n",
      "akhtar abbas 369\n",
      "akhtar abbas 370\n",
      "akhtar abbas 371\n",
      "akhtar abbas 372\n",
      "akhtar abbas 373\n",
      "akhtar abbas 374\n",
      "akhtar abbas 375\n",
      "akhtar abbas 376\n",
      "akhtar abbas 377\n",
      "akhtar abbas 378\n",
      "akhtar abbas 379\n",
      "akhtar abbas 380\n",
      "akhtar abbas 381\n",
      "akhtar abbas 382\n",
      "akhtar abbas 383\n",
      "akhtar abbas 384\n",
      "akhtar abbas 385\n",
      "akhtar abbas 386\n",
      "akhtar abbas 387\n",
      "akhtar abbas 388\n",
      "akhtar abbas 389\n",
      "akhtar abbas 390\n",
      "akhtar abbas 391\n",
      "akhtar abbas 392\n",
      "akhtar abbas 393\n",
      "akhtar abbas 394\n",
      "akhtar abbas 395\n",
      "akhtar abbas 396\n",
      "akhtar abbas 397\n",
      "akhtar abbas 398\n",
      "akhtar abbas 399\n",
      "akhtar abbas 400\n",
      "akhtar abbas 401\n",
      "akhtar abbas 402\n",
      "akhtar abbas 403\n",
      "akhtar abbas 404\n",
      "akhtar abbas 405\n",
      "akhtar abbas 406\n",
      "akhtar abbas 407\n",
      "akhtar abbas 408\n",
      "akhtar abbas 409\n",
      "akhtar abbas 410\n",
      "akhtar abbas 411\n",
      "akhtar abbas 412\n",
      "akhtar abbas 413\n",
      "akhtar abbas 414\n",
      "akhtar abbas 415\n",
      "akhtar abbas 416\n",
      "akhtar abbas 417\n",
      "akhtar abbas 418\n",
      "akhtar abbas 419\n",
      "akhtar abbas 420\n",
      "akhtar abbas 421\n",
      "akhtar abbas 422\n",
      "akhtar abbas 423\n",
      "akhtar abbas 424\n",
      "akhtar abbas 425\n",
      "akhtar abbas 426\n",
      "akhtar abbas 427\n",
      "akhtar abbas 428\n",
      "akhtar abbas 429\n",
      "akhtar abbas 430\n",
      "akhtar abbas 431\n",
      "akhtar abbas 432\n",
      "akhtar abbas 433\n",
      "akhtar abbas 434\n",
      "akhtar abbas 435\n",
      "akhtar abbas 436\n",
      "akhtar abbas 437\n",
      "akhtar abbas 438\n",
      "akhtar abbas 439\n",
      "akhtar abbas 440\n",
      "akhtar abbas 441\n",
      "akhtar abbas 442\n",
      "akhtar abbas 443\n",
      "akhtar abbas 444\n",
      "akhtar abbas 445\n",
      "akhtar abbas 446\n",
      "akhtar abbas 447\n",
      "akhtar abbas 448\n",
      "akhtar abbas 449\n",
      "akhtar abbas 450\n",
      "akhtar abbas 451\n",
      "akhtar abbas 452\n",
      "akhtar abbas 453\n",
      "akhtar abbas 454\n",
      "akhtar abbas 455\n",
      "akhtar abbas 456\n",
      "akhtar abbas 457\n",
      "akhtar abbas 458\n",
      "akhtar abbas 459\n",
      "akhtar abbas 460\n",
      "akhtar abbas 461\n",
      "akhtar abbas 462\n",
      "akhtar abbas 463\n",
      "akhtar abbas 464\n",
      "akhtar abbas 465\n",
      "akhtar abbas 466\n",
      "akhtar abbas 467\n",
      "akhtar abbas 468\n",
      "akhtar abbas 469\n",
      "akhtar abbas 470\n",
      "akhtar abbas 471\n",
      "akhtar abbas 472\n",
      "akhtar abbas 473\n",
      "akhtar abbas 474\n",
      "akhtar abbas 475\n",
      "akhtar abbas 476\n",
      "akhtar abbas 477\n",
      "akhtar abbas 478\n",
      "akhtar abbas 479\n",
      "akhtar abbas 480\n",
      "akhtar abbas 481\n",
      "akhtar abbas 482\n",
      "akhtar abbas 483\n",
      "akhtar abbas 484\n",
      "akhtar abbas 485\n",
      "akhtar abbas 486\n",
      "akhtar abbas 487\n",
      "akhtar abbas 488\n",
      "akhtar abbas 489\n",
      "akhtar abbas 490\n",
      "akhtar abbas 491\n",
      "akhtar abbas 492\n",
      "akhtar abbas 493\n",
      "akhtar abbas 494\n",
      "akhtar abbas 495\n",
      "akhtar abbas 496\n",
      "akhtar abbas 497\n",
      "akhtar abbas 498\n",
      "akhtar abbas 499\n",
      "akhtar abbas 500\n"
     ]
    }
   ],
   "source": [
    "i=1\n",
    "while i<=500:\n",
    "    print(\"akhtar abbas\", i)\n",
    "    i+=1"
   ]
  },
  {
   "cell_type": "code",
   "execution_count": 5,
   "id": "2333c655-383f-408a-8a6e-b279d5997e83",
   "metadata": {},
   "outputs": [
    {
     "name": "stdout",
     "output_type": "stream",
     "text": [
      "1\n",
      "2\n",
      "3\n",
      "4\n",
      "5\n",
      "loop ended\n"
     ]
    }
   ],
   "source": [
    "i=1\n",
    "while i<=5:\n",
    "    print(i)\n",
    "    i+=1\n",
    "print(\"loop ended\")"
   ]
  },
  {
   "cell_type": "code",
   "execution_count": 9,
   "id": "bc09c8e3-0617-4bd7-9954-0e6ef831caef",
   "metadata": {},
   "outputs": [
    {
     "name": "stdout",
     "output_type": "stream",
     "text": [
      "5\n",
      "4\n",
      "3\n",
      "2\n",
      "1\n"
     ]
    }
   ],
   "source": [
    "i=5\n",
    "while i>=1:\n",
    "    print(i)\n",
    "    i-=1\n",
    "    "
   ]
  },
  {
   "cell_type": "code",
   "execution_count": 11,
   "id": "ceecb566-031d-4b72-8c8e-62e3faca3110",
   "metadata": {},
   "outputs": [
    {
     "name": "stdout",
     "output_type": "stream",
     "text": [
      "1\n",
      "2\n",
      "3\n",
      "4\n",
      "5\n",
      "6\n",
      "7\n",
      "8\n",
      "9\n",
      "10\n",
      "11\n",
      "12\n",
      "13\n",
      "14\n",
      "15\n",
      "16\n",
      "17\n",
      "18\n",
      "19\n",
      "20\n",
      "21\n",
      "22\n",
      "23\n",
      "24\n",
      "25\n",
      "26\n",
      "27\n",
      "28\n",
      "29\n",
      "30\n",
      "31\n",
      "32\n",
      "33\n",
      "34\n",
      "35\n",
      "36\n",
      "37\n",
      "38\n",
      "39\n",
      "40\n",
      "41\n",
      "42\n",
      "43\n",
      "44\n",
      "45\n",
      "46\n",
      "47\n",
      "48\n",
      "49\n",
      "50\n",
      "51\n",
      "52\n",
      "53\n",
      "54\n",
      "55\n",
      "56\n",
      "57\n",
      "58\n",
      "59\n",
      "60\n",
      "61\n",
      "62\n",
      "63\n",
      "64\n",
      "65\n",
      "66\n",
      "67\n",
      "68\n",
      "69\n",
      "70\n",
      "71\n",
      "72\n",
      "73\n",
      "74\n",
      "75\n",
      "76\n",
      "77\n",
      "78\n",
      "79\n",
      "80\n",
      "81\n",
      "82\n",
      "83\n",
      "84\n",
      "85\n",
      "86\n",
      "87\n",
      "88\n",
      "89\n",
      "90\n",
      "91\n",
      "92\n",
      "93\n",
      "94\n",
      "95\n",
      "96\n",
      "97\n",
      "98\n",
      "99\n",
      "100\n"
     ]
    }
   ],
   "source": [
    "i=1\n",
    "while i<=100:\n",
    "    print(i)\n",
    "    i+=1"
   ]
  },
  {
   "cell_type": "code",
   "execution_count": 13,
   "id": "a2c7204c-f555-4321-9a9c-fcd5a60fd2e7",
   "metadata": {},
   "outputs": [
    {
     "name": "stdout",
     "output_type": "stream",
     "text": [
      "100\n",
      "99\n",
      "98\n",
      "97\n",
      "96\n",
      "95\n",
      "94\n",
      "93\n",
      "92\n",
      "91\n",
      "90\n",
      "89\n",
      "88\n",
      "87\n",
      "86\n",
      "85\n",
      "84\n",
      "83\n",
      "82\n",
      "81\n",
      "80\n",
      "79\n",
      "78\n",
      "77\n",
      "76\n",
      "75\n",
      "74\n",
      "73\n",
      "72\n",
      "71\n",
      "70\n",
      "69\n",
      "68\n",
      "67\n",
      "66\n",
      "65\n",
      "64\n",
      "63\n",
      "62\n",
      "61\n",
      "60\n",
      "59\n",
      "58\n",
      "57\n",
      "56\n",
      "55\n",
      "54\n",
      "53\n",
      "52\n",
      "51\n",
      "50\n",
      "49\n",
      "48\n",
      "47\n",
      "46\n",
      "45\n",
      "44\n",
      "43\n",
      "42\n",
      "41\n",
      "40\n",
      "39\n",
      "38\n",
      "37\n",
      "36\n",
      "35\n",
      "34\n",
      "33\n",
      "32\n",
      "31\n",
      "30\n",
      "29\n",
      "28\n",
      "27\n",
      "26\n",
      "25\n",
      "24\n",
      "23\n",
      "22\n",
      "21\n",
      "20\n",
      "19\n",
      "18\n",
      "17\n",
      "16\n",
      "15\n",
      "14\n",
      "13\n",
      "12\n",
      "11\n",
      "10\n",
      "9\n",
      "8\n",
      "7\n",
      "6\n",
      "5\n",
      "4\n",
      "3\n",
      "2\n",
      "1\n"
     ]
    }
   ],
   "source": [
    "i=100\n",
    "while i>=1:\n",
    "    print(i)\n",
    "    i-=1"
   ]
  },
  {
   "cell_type": "code",
   "execution_count": 25,
   "id": "06940312-d027-4eef-81f2-6779cd6d5134",
   "metadata": {},
   "outputs": [
    {
     "name": "stdin",
     "output_type": "stream",
     "text": [
      "enter number which table you want to print: 2\n"
     ]
    },
    {
     "name": "stdout",
     "output_type": "stream",
     "text": [
      "2  X  1  =  2\n",
      "2  X  2  =  4\n",
      "2  X  3  =  6\n",
      "2  X  4  =  8\n",
      "2  X  5  =  10\n",
      "2  X  6  =  12\n",
      "2  X  7  =  14\n",
      "2  X  8  =  16\n",
      "2  X  9  =  18\n",
      "2  X  10  =  20\n",
      "2  X  11  =  22\n",
      "2  X  12  =  24\n",
      "2  X  13  =  26\n",
      "2  X  14  =  28\n",
      "2  X  15  =  30\n",
      "2  X  16  =  32\n",
      "2  X  17  =  34\n",
      "2  X  18  =  36\n",
      "2  X  19  =  38\n",
      "2  X  20  =  40\n"
     ]
    }
   ],
   "source": [
    "n=int(input(\"enter number which table you want to print:\",))\n",
    "i=1\n",
    "while i<=20:\n",
    "    print(n ,\" X \" ,i ,\" = \" ,n*i)\n",
    "    i+=1"
   ]
  },
  {
   "cell_type": "code",
   "execution_count": 29,
   "id": "a920377c-04e8-4668-973c-a39496863d2f",
   "metadata": {},
   "outputs": [
    {
     "name": "stdout",
     "output_type": "stream",
     "text": [
      "1\n",
      "4\n",
      "9\n",
      "16\n",
      "25\n",
      "36\n",
      "49\n",
      "64\n",
      "81\n",
      "100\n"
     ]
    }
   ],
   "source": [
    "nums=[1,4,9,16,25,36,49,64,81,100]\n",
    "i=0\n",
    "while i<=len(nums)-1:\n",
    "    print(nums[i])\n",
    "    i+=1"
   ]
  },
  {
   "cell_type": "code",
   "execution_count": 3,
   "id": "5f6d06f4-a77c-42db-aa51-a61930bb94b9",
   "metadata": {},
   "outputs": [
    {
     "name": "stdin",
     "output_type": "stream",
     "text": [
      "enter number you want to search from 1 to 100 100\n"
     ]
    },
    {
     "name": "stdout",
     "output_type": "stream",
     "text": [
      "findi----\n",
      "findi----\n",
      "findi----\n",
      "findi----\n",
      "findi----\n",
      "findi----\n",
      "findi----\n",
      "findi----\n",
      "findi----\n",
      "found at index; 9\n"
     ]
    }
   ],
   "source": [
    "nums=(1,4,9,16,25,36,49,64,81,100)\n",
    "n=int(input(\"enter number you want to search from 1 to 100\"))\n",
    "i=0\n",
    "while i<=len(nums)-1:\n",
    "    if(nums[i]==n):\n",
    "        print(\"found at index;\" ,i)\n",
    "    else:\n",
    "        print(\"findi----\")\n",
    "    i+=1"
   ]
  },
  {
   "cell_type": "code",
   "execution_count": 5,
   "id": "062b8466-df76-4506-b636-249e4230073f",
   "metadata": {},
   "outputs": [
    {
     "name": "stdin",
     "output_type": "stream",
     "text": [
      "enter number you want to search from 1 to 100 25\n"
     ]
    },
    {
     "name": "stdout",
     "output_type": "stream",
     "text": [
      "findi----\n",
      "findi----\n",
      "findi----\n",
      "findi----\n",
      "found at index; 4\n"
     ]
    }
   ],
   "source": [
    "nums=(1,4,9,16,25,36,49,64,81,100)\n",
    "n=int(input(\"enter number you want to search from 1 to 100\"))\n",
    "i=0\n",
    "while i<=len(nums)-1:\n",
    "    if(nums[i]==n):\n",
    "        print(\"found at index;\" ,i)\n",
    "        break\n",
    "    else:\n",
    "        print(\"findi----\")\n",
    "    i+=1"
   ]
  },
  {
   "cell_type": "code",
   "execution_count": 3,
   "id": "2bc1149d-2f8b-4f6d-a1ae-cc5e09080dcf",
   "metadata": {},
   "outputs": [
    {
     "name": "stdout",
     "output_type": "stream",
     "text": [
      "1\n",
      "2\n",
      "4\n",
      "5\n"
     ]
    }
   ],
   "source": [
    "i=1\n",
    "while i<=5:\n",
    "    if(i==3):\n",
    "        i+=1\n",
    "        continue #skip\n",
    "    print(i)\n",
    "    i+=1"
   ]
  },
  {
   "cell_type": "code",
   "execution_count": 7,
   "id": "08aaa51b-cdcd-4800-a42f-d82f6cb5a970",
   "metadata": {},
   "outputs": [
    {
     "name": "stdout",
     "output_type": "stream",
     "text": [
      "1\n",
      "3\n",
      "5\n",
      "7\n",
      "9\n"
     ]
    }
   ],
   "source": [
    "#for odd number\n",
    "i=1\n",
    "while i<=10:\n",
    "    if(i%2==0):\n",
    "        i+=1\n",
    "        continue\n",
    "    print(i)\n",
    "    i+=1"
   ]
  },
  {
   "cell_type": "code",
   "execution_count": 9,
   "id": "f173973b-89a1-44fb-8d4c-f95e078d211d",
   "metadata": {},
   "outputs": [
    {
     "name": "stdout",
     "output_type": "stream",
     "text": [
      "2\n",
      "4\n",
      "6\n",
      "8\n",
      "10\n"
     ]
    }
   ],
   "source": [
    "# for even number\n",
    "i=1\n",
    "while i<=10:\n",
    "    if(i%2!=0):\n",
    "        i+=1\n",
    "        continue\n",
    "    print(i)\n",
    "    i+=1"
   ]
  },
  {
   "cell_type": "markdown",
   "id": "31dcf8e9-f21b-4a92-85d2-dc1746505c77",
   "metadata": {},
   "source": [
    "### for loop\n",
    "- for loop is used for sequential traversal. for traversing list,string,tuple etc"
   ]
  },
  {
   "cell_type": "code",
   "execution_count": 14,
   "id": "eb4da646-c0ef-4529-92a7-c938ff7cf5c9",
   "metadata": {},
   "outputs": [
    {
     "name": "stdout",
     "output_type": "stream",
     "text": [
      "1\n",
      "2\n",
      "3\n",
      "4\n",
      "6\n"
     ]
    }
   ],
   "source": [
    "n=[1,2,3,4,6]\n",
    "for i in n:\n",
    "    print(i)"
   ]
  },
  {
   "cell_type": "code",
   "execution_count": 16,
   "id": "1895c41c-ed22-4f09-a798-050f64c7bb88",
   "metadata": {},
   "outputs": [
    {
     "name": "stdout",
     "output_type": "stream",
     "text": [
      "akhtar\n",
      "shair\n",
      "ameen\n",
      "ali\n"
     ]
    }
   ],
   "source": [
    "names=[\"akhtar\",\"shair\",\"ameen\",\"ali\"]\n",
    "for val in names:\n",
    "    print(val)"
   ]
  },
  {
   "cell_type": "code",
   "execution_count": 18,
   "id": "fd17f9d6-305c-4753-9ef8-6a031f546f9c",
   "metadata": {},
   "outputs": [
    {
     "name": "stdout",
     "output_type": "stream",
     "text": [
      "2\n",
      "4\n",
      "5\n",
      "7\n",
      "4\n",
      "2\n",
      "9\n"
     ]
    }
   ],
   "source": [
    "tup=(2,4,5,7,4,2,9)\n",
    "for val in tup:\n",
    "    print(val)"
   ]
  },
  {
   "cell_type": "markdown",
   "id": "eca19e8d-58e3-4f56-9288-7242e5589c07",
   "metadata": {},
   "source": [
    "- if we work on any iterator for example we have variable which value update or any stoping condition then use while loop\n",
    "-  if we want to traverse on any datatype then we use for loop"
   ]
  },
  {
   "cell_type": "code",
   "execution_count": 23,
   "id": "b4cbe1d2-7fae-4b2b-84da-a8c7b19d21c8",
   "metadata": {},
   "outputs": [
    {
     "name": "stdout",
     "output_type": "stream",
     "text": [
      "a\n",
      "k\n",
      "h\n",
      "t\n",
      "a\n",
      "r\n",
      "end loop\n"
     ]
    }
   ],
   "source": [
    "str=\"akhtar\"\n",
    "for latter in str:\n",
    "    print(latter)\n",
    "else:\n",
    "    print(\"end loop\")"
   ]
  },
  {
   "cell_type": "markdown",
   "id": "b0d2cc1c-ec27-4d7b-8a75-556872181574",
   "metadata": {},
   "source": [
    "- else is execute after the compeletion of loop  and in break case else not work"
   ]
  },
  {
   "cell_type": "code",
   "execution_count": 36,
   "id": "01055265-ccfa-4945-b444-c19cf464a83c",
   "metadata": {},
   "outputs": [
    {
     "name": "stdout",
     "output_type": "stream",
     "text": [
      "a\n",
      "k\n",
      "t\n",
      "a\n",
      "r found\n"
     ]
    }
   ],
   "source": [
    "name=\"aktar\"\n",
    "for char in name:\n",
    "    if(char==\"r\"):\n",
    "        print(\"r found\")\n",
    "        break\n",
    "    print(char)\n",
    "else:\n",
    "    print(\"loop end\")"
   ]
  },
  {
   "cell_type": "code",
   "execution_count": 40,
   "id": "6379b2d9-c9d8-4fff-8e0c-b2af6fae6780",
   "metadata": {},
   "outputs": [
    {
     "name": "stdout",
     "output_type": "stream",
     "text": [
      "a\n",
      "k\n",
      "t\n",
      "a\n",
      "r found\n",
      "loop end\n"
     ]
    }
   ],
   "source": [
    "name=\"aktar\"\n",
    "for char in name:\n",
    "    if(char==\"r\"):\n",
    "        print(\"r found\")\n",
    "        break\n",
    "    print(char)\n",
    "print(\"loop end\")"
   ]
  },
  {
   "cell_type": "code",
   "execution_count": 42,
   "id": "af0c7902-1c4d-4184-97f6-14d5e5b18592",
   "metadata": {},
   "outputs": [
    {
     "name": "stdout",
     "output_type": "stream",
     "text": [
      "1\n",
      "4\n",
      "9\n",
      "16\n",
      "25\n",
      "36\n",
      "49\n",
      "64\n",
      "81\n",
      "100\n"
     ]
    }
   ],
   "source": [
    "num=[1,4,9,16,25,36,49,64,81,100]\n",
    "for val in num:\n",
    "    print(val)"
   ]
  },
  {
   "cell_type": "code",
   "execution_count": 6,
   "id": "378ed79a-3a68-4f81-933c-dd1c53942af4",
   "metadata": {},
   "outputs": [
    {
     "name": "stdin",
     "output_type": "stream",
     "text": [
      "enter number you want to search: 9\n"
     ]
    },
    {
     "name": "stdout",
     "output_type": "stream",
     "text": [
      "number is found at index 2\n"
     ]
    }
   ],
   "source": [
    "num=[1,4,9,9,16,25,36,49,64,81,100]\n",
    "x=int(input(\"enter number you want to search:\",))\n",
    "index=0\n",
    "for val in num:\n",
    "    if(val==x):\n",
    "        print(\"number is found at index\",index)\n",
    "        break\n",
    "    index +=1\n",
    "    \n"
   ]
  },
  {
   "cell_type": "markdown",
   "id": "76957b4f-8ab6-4293-affb-bce55e99c652",
   "metadata": {},
   "source": [
    "- range function return the squence of number, starting from 0 by default and increment by 1, and stop before specific number"
   ]
  },
  {
   "cell_type": "code",
   "execution_count": 11,
   "id": "84e1cc14-1936-4008-bb2f-04b69815e4f5",
   "metadata": {},
   "outputs": [
    {
     "name": "stdout",
     "output_type": "stream",
     "text": [
      "range(0, 5)\n"
     ]
    }
   ],
   "source": [
    "print(range(5))"
   ]
  },
  {
   "cell_type": "code",
   "execution_count": 17,
   "id": "feed8053-de2f-4e9d-a953-1ef7ba943f0c",
   "metadata": {},
   "outputs": [
    {
     "name": "stdout",
     "output_type": "stream",
     "text": [
      "0\n",
      "1\n",
      "2\n",
      "3\n",
      "4\n"
     ]
    }
   ],
   "source": [
    "seq=range(5)\n",
    "print(seq[0])\n",
    "print(seq[1])\n",
    "print(seq[2])\n",
    "print(seq[3])\n",
    "print(seq[4])\n"
   ]
  },
  {
   "cell_type": "code",
   "execution_count": 19,
   "id": "d1201f19-4040-424e-b9aa-30e8a31db26f",
   "metadata": {},
   "outputs": [
    {
     "name": "stdout",
     "output_type": "stream",
     "text": [
      "0\n",
      "1\n",
      "2\n",
      "3\n",
      "4\n"
     ]
    }
   ],
   "source": [
    "seq=range(5)\n",
    "for i in seq:\n",
    "    print(i)"
   ]
  },
  {
   "cell_type": "code",
   "execution_count": 21,
   "id": "e98e8da0-27db-4122-a7c1-ddb155506ca7",
   "metadata": {},
   "outputs": [
    {
     "name": "stdout",
     "output_type": "stream",
     "text": [
      "0\n",
      "1\n",
      "2\n",
      "3\n",
      "4\n",
      "5\n",
      "6\n",
      "7\n",
      "8\n",
      "9\n"
     ]
    }
   ],
   "source": [
    "for i in range(10): # range(stop)\n",
    "    print(i)"
   ]
  },
  {
   "cell_type": "markdown",
   "id": "ae0eb4de-08a3-45af-9007-c8d79990a426",
   "metadata": {},
   "source": [
    "- range(start,stop,step)"
   ]
  },
  {
   "cell_type": "code",
   "execution_count": 24,
   "id": "d4c6dc04-de40-468f-87e1-88ecd2672c72",
   "metadata": {},
   "outputs": [
    {
     "name": "stdout",
     "output_type": "stream",
     "text": [
      "2\n",
      "3\n",
      "4\n",
      "5\n",
      "6\n",
      "7\n",
      "8\n",
      "9\n"
     ]
    }
   ],
   "source": [
    "for i in range(2,10):  #range(start,stop)\n",
    "    print(i)"
   ]
  },
  {
   "cell_type": "code",
   "execution_count": 28,
   "id": "2816b509-5c60-4979-b8df-03dfef68f712",
   "metadata": {},
   "outputs": [
    {
     "name": "stdout",
     "output_type": "stream",
     "text": [
      "1\n",
      "3\n",
      "5\n",
      "7\n",
      "9\n"
     ]
    }
   ],
   "source": [
    "for i in range(1,10,2): #range(start,stop,step)\n",
    "    print(i)"
   ]
  },
  {
   "cell_type": "code",
   "execution_count": 32,
   "id": "8be6fc2b-5630-409b-96e5-08347e0bf376",
   "metadata": {},
   "outputs": [
    {
     "name": "stdout",
     "output_type": "stream",
     "text": [
      "2\n",
      "4\n",
      "6\n",
      "8\n"
     ]
    }
   ],
   "source": [
    "for i in range(2,10,2):\n",
    "    print(i)"
   ]
  },
  {
   "cell_type": "markdown",
   "id": "d588ab29-1b5f-4f06-9c02-9ce77cc6648e",
   "metadata": {},
   "source": [
    "### Practice "
   ]
  },
  {
   "cell_type": "code",
   "execution_count": 37,
   "id": "635f7e12-4c47-4b69-872b-aa7130fb8fc8",
   "metadata": {},
   "outputs": [
    {
     "name": "stdout",
     "output_type": "stream",
     "text": [
      "0\n",
      "1\n",
      "2\n",
      "3\n",
      "4\n",
      "5\n",
      "6\n",
      "7\n",
      "8\n",
      "9\n",
      "10\n",
      "11\n",
      "12\n",
      "13\n",
      "14\n",
      "15\n",
      "16\n",
      "17\n",
      "18\n",
      "19\n",
      "20\n",
      "21\n",
      "22\n",
      "23\n",
      "24\n",
      "25\n",
      "26\n",
      "27\n",
      "28\n",
      "29\n",
      "30\n",
      "31\n",
      "32\n",
      "33\n",
      "34\n",
      "35\n",
      "36\n",
      "37\n",
      "38\n",
      "39\n",
      "40\n",
      "41\n",
      "42\n",
      "43\n",
      "44\n",
      "45\n",
      "46\n",
      "47\n",
      "48\n",
      "49\n",
      "50\n",
      "51\n",
      "52\n",
      "53\n",
      "54\n",
      "55\n",
      "56\n",
      "57\n",
      "58\n",
      "59\n",
      "60\n",
      "61\n",
      "62\n",
      "63\n",
      "64\n",
      "65\n",
      "66\n",
      "67\n",
      "68\n",
      "69\n",
      "70\n",
      "71\n",
      "72\n",
      "73\n",
      "74\n",
      "75\n",
      "76\n",
      "77\n",
      "78\n",
      "79\n",
      "80\n",
      "81\n",
      "82\n",
      "83\n",
      "84\n",
      "85\n",
      "86\n",
      "87\n",
      "88\n",
      "89\n",
      "90\n",
      "91\n",
      "92\n",
      "93\n",
      "94\n",
      "95\n",
      "96\n",
      "97\n",
      "98\n",
      "99\n"
     ]
    }
   ],
   "source": [
    "for i in range(100):\n",
    "    print(i)"
   ]
  },
  {
   "cell_type": "code",
   "execution_count": 49,
   "id": "ff7d17ba-ac1b-46ee-a88b-9ca2f4f6b6a4",
   "metadata": {},
   "outputs": [
    {
     "name": "stdout",
     "output_type": "stream",
     "text": [
      "100\n",
      "99\n",
      "98\n",
      "97\n",
      "96\n",
      "95\n",
      "94\n",
      "93\n",
      "92\n",
      "91\n",
      "90\n",
      "89\n",
      "88\n",
      "87\n",
      "86\n",
      "85\n",
      "84\n",
      "83\n",
      "82\n",
      "81\n",
      "80\n",
      "79\n",
      "78\n",
      "77\n",
      "76\n",
      "75\n",
      "74\n",
      "73\n",
      "72\n",
      "71\n",
      "70\n",
      "69\n",
      "68\n",
      "67\n",
      "66\n",
      "65\n",
      "64\n",
      "63\n",
      "62\n",
      "61\n",
      "60\n",
      "59\n",
      "58\n",
      "57\n",
      "56\n",
      "55\n",
      "54\n",
      "53\n",
      "52\n",
      "51\n",
      "50\n",
      "49\n",
      "48\n",
      "47\n",
      "46\n",
      "45\n",
      "44\n",
      "43\n",
      "42\n",
      "41\n",
      "40\n",
      "39\n",
      "38\n",
      "37\n",
      "36\n",
      "35\n",
      "34\n",
      "33\n",
      "32\n",
      "31\n",
      "30\n",
      "29\n",
      "28\n",
      "27\n",
      "26\n",
      "25\n",
      "24\n",
      "23\n",
      "22\n",
      "21\n",
      "20\n",
      "19\n",
      "18\n",
      "17\n",
      "16\n",
      "15\n",
      "14\n",
      "13\n",
      "12\n",
      "11\n",
      "10\n",
      "9\n",
      "8\n",
      "7\n",
      "6\n",
      "5\n",
      "4\n",
      "3\n",
      "2\n",
      "1\n"
     ]
    }
   ],
   "source": [
    "for i in range(100,0,-1):\n",
    "    print(i)"
   ]
  },
  {
   "cell_type": "code",
   "execution_count": 65,
   "id": "17312af3-a06d-4e58-9227-b781bcdbeb3d",
   "metadata": {},
   "outputs": [
    {
     "name": "stdin",
     "output_type": "stream",
     "text": [
      "enter number which table you want to print: 5\n"
     ]
    },
    {
     "name": "stdout",
     "output_type": "stream",
     "text": [
      "0\n",
      "5\n",
      "10\n",
      "15\n"
     ]
    }
   ],
   "source": [
    "tab=int(input(\"enter number which table you want to print:\"))\n",
    "for i in range(0,20,tab):\n",
    "    print(i)"
   ]
  },
  {
   "cell_type": "markdown",
   "id": "b9d337ef-c411-4588-8174-4bec0b36c27c",
   "metadata": {},
   "source": [
    "- pass statement is null statement that does nothing, it is used as a placeholder for future code"
   ]
  },
  {
   "cell_type": "code",
   "execution_count": 70,
   "id": "ac8694ae-5e95-42a3-a170-b7abfdac35bd",
   "metadata": {},
   "outputs": [
    {
     "ename": "IndentationError",
     "evalue": "expected an indented block after 'for' statement on line 1 (583501180.py, line 4)",
     "output_type": "error",
     "traceback": [
      "\u001b[1;36m  Cell \u001b[1;32mIn[70], line 4\u001b[1;36m\u001b[0m\n\u001b[1;33m    print('akhtar abbas')\u001b[0m\n\u001b[1;37m    ^\u001b[0m\n\u001b[1;31mIndentationError\u001b[0m\u001b[1;31m:\u001b[0m expected an indented block after 'for' statement on line 1\n"
     ]
    }
   ],
   "source": [
    "for i in range(5):\n",
    "    #empty\n",
    "\n",
    "print('akhtar abbas')"
   ]
  },
  {
   "cell_type": "markdown",
   "id": "37fe06ce-1f18-4814-a77b-63565abed75a",
   "metadata": {},
   "source": [
    "- for above situation pass is used"
   ]
  },
  {
   "cell_type": "code",
   "execution_count": 73,
   "id": "10386c21-ca55-44f6-b393-30eb439502f3",
   "metadata": {},
   "outputs": [
    {
     "name": "stdout",
     "output_type": "stream",
     "text": [
      "akhtar abbas\n"
     ]
    }
   ],
   "source": [
    "for i in range(5):\n",
    "    pass\n",
    "\n",
    "print('akhtar abbas')"
   ]
  },
  {
   "cell_type": "code",
   "execution_count": 11,
   "id": "9abbe045-ee72-4839-96ff-b05c1e834cd2",
   "metadata": {},
   "outputs": [
    {
     "name": "stdin",
     "output_type": "stream",
     "text": [
      "how many number you want to enter: 2\n",
      "enter numbers 10\n",
      "enter numbers 100\n"
     ]
    },
    {
     "name": "stdout",
     "output_type": "stream",
     "text": [
      "the total sum is: 110\n"
     ]
    }
   ],
   "source": [
    "nums=[]\n",
    "n=int(input(\"how many number you want to enter:\"))\n",
    "i=1\n",
    "while(i<=n):\n",
    "    number=int(input(\"enter numbers\",))\n",
    "    nums.append(number)\n",
    "    i+=1    \n",
    "\n",
    "sum = 0\n",
    "i = 0 \n",
    "while i < len(nums):\n",
    "    sum+= nums[i]\n",
    "    i += 1\n",
    "print(\"the total sum is:\",sum)"
   ]
  },
  {
   "cell_type": "code",
   "execution_count": 3,
   "id": "f07e4f17-614b-480a-bf1c-2cf7fd72c1ae",
   "metadata": {},
   "outputs": [
    {
     "name": "stdin",
     "output_type": "stream",
     "text": [
      "enter number n: 5\n"
     ]
    },
    {
     "name": "stdout",
     "output_type": "stream",
     "text": [
      "the total sum of n number is: 15\n"
     ]
    }
   ],
   "source": [
    "n=int(input(\"enter number n:\"))\n",
    "sum=0\n",
    "i=0\n",
    "while(i<=n):\n",
    "    sum+=i\n",
    "    i+=1\n",
    "\n",
    "print(\"the total sum of n number is:\",sum)\n",
    "    "
   ]
  },
  {
   "cell_type": "code",
   "execution_count": 11,
   "id": "9dedb91e-c1f7-4d5c-97bd-19e8296e1b89",
   "metadata": {},
   "outputs": [
    {
     "name": "stdin",
     "output_type": "stream",
     "text": [
      "enter number n: 5\n"
     ]
    },
    {
     "name": "stdout",
     "output_type": "stream",
     "text": [
      "the factorail of n number is: 120\n"
     ]
    }
   ],
   "source": [
    "n=int(input(\"enter number n:\"))\n",
    "sum=1\n",
    "i=1\n",
    "while(i<=n):\n",
    "    sum*=i\n",
    "    i+=1\n",
    "\n",
    "print(\"the factorail of n number is:\",sum)\n",
    "    "
   ]
  },
  {
   "cell_type": "code",
   "execution_count": 19,
   "id": "c8f8d318-ed53-42cc-995b-a6bcbd04c8d6",
   "metadata": {},
   "outputs": [
    {
     "name": "stdin",
     "output_type": "stream",
     "text": [
      "enter n number which yor want to find factorial: 5\n"
     ]
    },
    {
     "name": "stdout",
     "output_type": "stream",
     "text": [
      "the factorial is: 24\n"
     ]
    }
   ],
   "source": [
    "n=int(input(\"enter n number which yor want to find factorial:\"))\n",
    "fact=1\n",
    "for i in range(1,n):\n",
    "    fact*=i\n",
    "    \n",
    "print(\"the factorial is:\",fact)"
   ]
  },
  {
   "cell_type": "code",
   "execution_count": null,
   "id": "c8c4058e-3692-4cdf-bd29-ef4666888c64",
   "metadata": {},
   "outputs": [],
   "source": []
  }
 ],
 "metadata": {
  "kernelspec": {
   "display_name": "Python 3 (ipykernel)",
   "language": "python",
   "name": "python3"
  },
  "language_info": {
   "codemirror_mode": {
    "name": "ipython",
    "version": 3
   },
   "file_extension": ".py",
   "mimetype": "text/x-python",
   "name": "python",
   "nbconvert_exporter": "python",
   "pygments_lexer": "ipython3",
   "version": "3.12.7"
  }
 },
 "nbformat": 4,
 "nbformat_minor": 5
}
