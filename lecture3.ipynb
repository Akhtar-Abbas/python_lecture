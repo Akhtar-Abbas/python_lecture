{
 "cells": [
  {
   "cell_type": "markdown",
   "id": "857c8c48-6a18-43c2-ad4d-6ee1c40c6e90",
   "metadata": {},
   "source": [
    "# Distionary"
   ]
  },
  {
   "cell_type": "markdown",
   "id": "7e0d8a3d-5a05-426d-a27c-7f95862cf531",
   "metadata": {},
   "source": [
    "- distionaries are use to store data values in key:value pairs\n",
    "- they are unordered,mutable(changeable) and don't allow duplicate keys"
   ]
  },
  {
   "cell_type": "code",
   "execution_count": 6,
   "id": "552a85c6-20e9-42c4-b319-147871323e3a",
   "metadata": {},
   "outputs": [
    {
     "name": "stdout",
     "output_type": "stream",
     "text": [
      "{'name': 'akhtar', 'age': 20, 'city': 'karachi', 'uni': 'smiu'}\n"
     ]
    }
   ],
   "source": [
    "info={\"name\":\"akhtar\",\"age\":20,\"city\":\"karachi\",\"uni\":\"smiu\"}\n",
    "print(info)"
   ]
  },
  {
   "cell_type": "code",
   "execution_count": 3,
   "id": "1833a37e-ad94-46c0-b4ba-1f23051ca810",
   "metadata": {},
   "outputs": [
    {
     "name": "stdout",
     "output_type": "stream",
     "text": [
      "{'name': 'akhtar', 'department': ('cs', '2nd semester', '2B'), 'course': ['OOP', 'DLD', 'DBS', 'CALCULUS']}\n"
     ]
    }
   ],
   "source": [
    "stdinfo={\"name\":\"akhtar\", \"department\":(\"cs\",\"2nd semester\",\"2B\"),\"course\":[\"OOP\",\"DLD\",\"DBS\",\"CALCULUS\"]}\n",
    "print(stdinfo)"
   ]
  },
  {
   "cell_type": "markdown",
   "id": "2f581831-77db-48a6-83b9-6606d025dc04",
   "metadata": {},
   "source": [
    "- in distionary there is no indexing"
   ]
  },
  {
   "cell_type": "markdown",
   "id": "72da1b97-6a7f-41e4-a45f-929aba3e3f6d",
   "metadata": {},
   "source": [
    "- not make same name of key in a same distionary"
   ]
  },
  {
   "cell_type": "code",
   "execution_count": 14,
   "id": "d8256eb4-3743-4286-82f8-233c2146f93d",
   "metadata": {},
   "outputs": [
    {
     "name": "stdout",
     "output_type": "stream",
     "text": [
      "akhtar\n",
      "('cs', '2nd semester', '2B')\n"
     ]
    }
   ],
   "source": [
    "print(stdinfo[\"name\"])\n",
    "print(stdinfo[\"department\"])"
   ]
  },
  {
   "cell_type": "code",
   "execution_count": 18,
   "id": "3bd187d7-2ab3-48c2-b0d0-daeabbe5921b",
   "metadata": {},
   "outputs": [
    {
     "name": "stdout",
     "output_type": "stream",
     "text": [
      "abbas\n"
     ]
    }
   ],
   "source": [
    "stdinfo[\"name\"]=\"abbas\"\n",
    "print(stdinfo[\"name\"])"
   ]
  },
  {
   "cell_type": "code",
   "execution_count": 20,
   "id": "0981526c-30ca-4677-8a24-72450f8c1c81",
   "metadata": {},
   "outputs": [
    {
     "name": "stdout",
     "output_type": "stream",
     "text": [
      "akhtar\n"
     ]
    }
   ],
   "source": [
    "stdinfo[\"lastname\"]=\"akhtar\"\n",
    "print(stdinfo[\"lastname\"])"
   ]
  },
  {
   "cell_type": "code",
   "execution_count": 22,
   "id": "f7048787-93bb-422e-94ab-44ac06034222",
   "metadata": {},
   "outputs": [
    {
     "name": "stdout",
     "output_type": "stream",
     "text": [
      "{'name': 'abbas', 'department': ('cs', '2nd semester', '2B'), 'course': ['OOP', 'DLD', 'DBS', 'CALCULUS'], 'lastname': 'akhtar'}\n"
     ]
    }
   ],
   "source": [
    "print(stdinfo)"
   ]
  },
  {
   "cell_type": "code",
   "execution_count": 24,
   "id": "2b9b9265-0948-434b-8f49-52f6f2216906",
   "metadata": {},
   "outputs": [
    {
     "name": "stdout",
     "output_type": "stream",
     "text": [
      "{'name': 'akhtar'}\n"
     ]
    }
   ],
   "source": [
    "null_dic={}\n",
    "null_dic[\"name\"]=\"akhtar\"\n",
    "print(null_dic)"
   ]
  },
  {
   "cell_type": "markdown",
   "id": "25a51fce-7dad-405d-8b06-a9c2c671a37a",
   "metadata": {},
   "source": [
    "### nested distionaries"
   ]
  },
  {
   "cell_type": "code",
   "execution_count": 27,
   "id": "8d05b0a6-a8d2-4a4c-a486-9b528bec93d8",
   "metadata": {},
   "outputs": [
    {
     "name": "stdout",
     "output_type": "stream",
     "text": [
      "{'name': 'akhtar', 'course': {'OOP': 80, 'DLD': 90, 'DBS': 78, 'CAL': 90}, 'department': 'cs'}\n"
     ]
    }
   ],
   "source": [
    "students={\"name\":\"akhtar\",\"course\":{\"OOP\":80,\"DLD\":90,\"DBS\":78,\"CAL\":90},\"department\":\"cs\"}\n",
    "print(students)"
   ]
  },
  {
   "cell_type": "markdown",
   "id": "cd5fb6cb-2f78-49eb-ab76-3a265edbc7b8",
   "metadata": {},
   "source": [
    "- distionary inside distionary"
   ]
  },
  {
   "cell_type": "code",
   "execution_count": 32,
   "id": "29c36347-9d14-4a21-9dee-e695aa2bbb72",
   "metadata": {},
   "outputs": [
    {
     "name": "stdout",
     "output_type": "stream",
     "text": [
      "{'OOP': 80, 'DLD': 90, 'DBS': 78, 'CAL': 90}\n"
     ]
    }
   ],
   "source": [
    "print(students[\"course\"])"
   ]
  },
  {
   "cell_type": "code",
   "execution_count": 34,
   "id": "d9fda4a4-eb89-40ad-8023-8e5df2410a9b",
   "metadata": {},
   "outputs": [
    {
     "name": "stdout",
     "output_type": "stream",
     "text": [
      "90\n"
     ]
    }
   ],
   "source": [
    "print(students[\"course\"][\"CAL\"])"
   ]
  },
  {
   "cell_type": "markdown",
   "id": "38d7eb1b-7a36-4e88-85d8-eb8b7020e4c7",
   "metadata": {},
   "source": [
    "### Distionary methods"
   ]
  },
  {
   "cell_type": "markdown",
   "id": "6c7eb638-1b67-4f96-b2c0-8c3a35cb9376",
   "metadata": {},
   "source": [
    "- key is to to return collection of keys"
   ]
  },
  {
   "cell_type": "code",
   "execution_count": 38,
   "id": "764418f4-8090-424c-a914-ddd3eb7c979a",
   "metadata": {},
   "outputs": [
    {
     "name": "stdout",
     "output_type": "stream",
     "text": [
      "dict_keys(['name', 'course', 'department'])\n"
     ]
    }
   ],
   "source": [
    "students={\"name\":\"akhtar\",\"course\":{\"OOP\":80,\"DLD\":90,\"DBS\":78,\"CAL\":90},\"department\":\"cs\"}\n",
    "print(students.keys())"
   ]
  },
  {
   "cell_type": "markdown",
   "id": "6991e886-f056-477e-b1be-89900001994b",
   "metadata": {},
   "source": [
    "- only return the main keys but not return nested keys"
   ]
  },
  {
   "cell_type": "markdown",
   "id": "64c5f11c-61b3-41fa-9516-0515a095294d",
   "metadata": {},
   "source": [
    "- to convert dic_key into list type casting is used"
   ]
  },
  {
   "cell_type": "code",
   "execution_count": 50,
   "id": "d52914b0-62b6-4d34-9c3f-821892075fe3",
   "metadata": {},
   "outputs": [
    {
     "name": "stdout",
     "output_type": "stream",
     "text": [
      "<class 'list'>\n"
     ]
    }
   ],
   "source": [
    "list(students.keys())\n",
    "print(list)"
   ]
  },
  {
   "cell_type": "markdown",
   "id": "855cea96-fbdb-4e02-9a59-dc6b6625a239",
   "metadata": {},
   "source": [
    "- value() method is used to return the collection of values"
   ]
  },
  {
   "cell_type": "code",
   "execution_count": 53,
   "id": "158b4685-cf2d-484f-adfa-bbada9fa385f",
   "metadata": {},
   "outputs": [
    {
     "name": "stdout",
     "output_type": "stream",
     "text": [
      "dict_values(['akhtar', {'OOP': 80, 'DLD': 90, 'DBS': 78, 'CAL': 90}, 'cs'])\n"
     ]
    }
   ],
   "source": [
    "print(students.values())"
   ]
  },
  {
   "cell_type": "markdown",
   "id": "0befe38d-139c-42f4-8704-ada9a642eab1",
   "metadata": {},
   "source": [
    "- intems() method is return key and value like tuples"
   ]
  },
  {
   "cell_type": "code",
   "execution_count": 57,
   "id": "dae546da-7cb8-466c-b230-e522f9e83197",
   "metadata": {},
   "outputs": [
    {
     "name": "stdout",
     "output_type": "stream",
     "text": [
      "dict_items([('name', 'akhtar'), ('course', {'OOP': 80, 'DLD': 90, 'DBS': 78, 'CAL': 90}), ('department', 'cs')])\n"
     ]
    }
   ],
   "source": [
    "print(students.items())"
   ]
  },
  {
   "cell_type": "code",
   "execution_count": 69,
   "id": "b38c299a-887b-4caa-bfba-d97e56c84900",
   "metadata": {},
   "outputs": [
    {
     "name": "stdout",
     "output_type": "stream",
     "text": [
      "[('name', 'akhtar'), ('course', {'OOP': 80, 'DLD': 90, 'DBS': 78, 'CAL': 90}), ('department', 'cs')]\n"
     ]
    }
   ],
   "source": [
    "pair=list(students.items())\n",
    "print(pair)"
   ]
  },
  {
   "cell_type": "code",
   "execution_count": 71,
   "id": "1869bee1-b218-42be-b919-3754917bde6d",
   "metadata": {},
   "outputs": [
    {
     "name": "stdout",
     "output_type": "stream",
     "text": [
      "('name', 'akhtar')\n"
     ]
    }
   ],
   "source": [
    "print(pair[0])"
   ]
  },
  {
   "cell_type": "code",
   "execution_count": 73,
   "id": "6a65f73c-1046-4575-abde-4284090a87ab",
   "metadata": {},
   "outputs": [
    {
     "name": "stdout",
     "output_type": "stream",
     "text": [
      "('course', {'OOP': 80, 'DLD': 90, 'DBS': 78, 'CAL': 90})\n"
     ]
    }
   ],
   "source": [
    "print(pair[1])"
   ]
  },
  {
   "cell_type": "markdown",
   "id": "42952e72-9bc9-4fa9-8cda-eac15dbe519b",
   "metadata": {},
   "source": [
    "- get() method use to return value according to key"
   ]
  },
  {
   "cell_type": "code",
   "execution_count": 87,
   "id": "99b5cb18-e676-4f7b-b572-b9cdf5070221",
   "metadata": {},
   "outputs": [
    {
     "name": "stdout",
     "output_type": "stream",
     "text": [
      "akhtar\n"
     ]
    }
   ],
   "source": [
    "print(students[\"name\"])"
   ]
  },
  {
   "cell_type": "code",
   "execution_count": 84,
   "id": "bd667e45-5c5b-4244-85fa-56ac0c689d75",
   "metadata": {},
   "outputs": [
    {
     "name": "stdout",
     "output_type": "stream",
     "text": [
      "akhtar\n"
     ]
    }
   ],
   "source": [
    "print(students.get(\"name\"))"
   ]
  },
  {
   "cell_type": "markdown",
   "id": "8960874b-32df-45ca-8b25-85371eba4155",
   "metadata": {},
   "source": [
    "- update is used to add new distionary into the old distionary "
   ]
  },
  {
   "cell_type": "code",
   "execution_count": 18,
   "id": "850baaee-adda-460b-a070-b606cf89e1fe",
   "metadata": {},
   "outputs": [
    {
     "name": "stdout",
     "output_type": "stream",
     "text": [
      "{'name': 'akhtar', 'course': {'OOP': 80, 'DLD': 90, 'DBS': 78, 'CAL': 90}, 'department': 'cs', 'city': 'karachi'}\n"
     ]
    }
   ],
   "source": [
    "students={\"name\":\"akhtar\",\"course\":{\"OOP\":80,\"DLD\":90,\"DBS\":78,\"CAL\":90},\"department\":\"cs\"}\n",
    "students.update({\"city\":\"karachi\"})\n",
    "print(students)"
   ]
  },
  {
   "cell_type": "markdown",
   "id": "23513d8a-2f78-4c40-8e3e-313287a76f65",
   "metadata": {},
   "source": [
    "# Set"
   ]
  },
  {
   "cell_type": "markdown",
   "id": "c430ddf5-762a-4c7b-9d2a-3fcd1215f30b",
   "metadata": {},
   "source": [
    "- set is the collection of unordered (no indexing) items\n",
    "- each element in the set must be unique and immutable"
   ]
  },
  {
   "cell_type": "markdown",
   "id": "269cf0bb-d361-4b91-a595-f25dd1c2e831",
   "metadata": {},
   "source": [
    "- in set we can store boolean,int,float,string,tuple and list because all are immutable\n",
    "- but not store list ans distionaries because both are mutable"
   ]
  },
  {
   "cell_type": "code",
   "execution_count": 25,
   "id": "95dfb11e-ec50-436c-ac94-a089bd499855",
   "metadata": {},
   "outputs": [
    {
     "name": "stdout",
     "output_type": "stream",
     "text": [
      "{1, 3, 4, 5}\n"
     ]
    }
   ],
   "source": [
    "num={1,3,4,5}\n",
    "print(num)"
   ]
  },
  {
   "cell_type": "code",
   "execution_count": 27,
   "id": "cbe49877-66ea-4bfa-b68c-39b0c150e4c9",
   "metadata": {},
   "outputs": [
    {
     "name": "stdout",
     "output_type": "stream",
     "text": [
      "<class 'set'>\n"
     ]
    }
   ],
   "source": [
    "print(type(num))"
   ]
  },
  {
   "cell_type": "code",
   "execution_count": 29,
   "id": "1e5d98e2-9770-4a8b-a23e-490ab395f147",
   "metadata": {},
   "outputs": [
    {
     "name": "stdout",
     "output_type": "stream",
     "text": [
      "{1, 2, 3, 'akhtar', 'hello'}\n"
     ]
    }
   ],
   "source": [
    "collection={1,2,2,3,\"hello\",\"akhtar\",\"hello\"}\n",
    "print(collection)"
   ]
  },
  {
   "cell_type": "code",
   "execution_count": 33,
   "id": "a910b678-5330-487e-bcd4-cfeb30bb6374",
   "metadata": {},
   "outputs": [
    {
     "name": "stdout",
     "output_type": "stream",
     "text": [
      "4\n"
     ]
    }
   ],
   "source": [
    "print(len(num))"
   ]
  },
  {
   "cell_type": "markdown",
   "id": "53df224e-83d0-42b7-ad79-4f72daa7c00a",
   "metadata": {},
   "source": [
    "- set always have unique value so its ignore the repeated value"
   ]
  },
  {
   "cell_type": "markdown",
   "id": "986a6cfa-a751-43cf-96dd-0774b0b8dd20",
   "metadata": {},
   "source": [
    "### set methods"
   ]
  },
  {
   "cell_type": "code",
   "execution_count": 37,
   "id": "dab23144-75b4-454c-896a-17f9ff7bb9be",
   "metadata": {},
   "outputs": [
    {
     "name": "stdout",
     "output_type": "stream",
     "text": [
      "{'second semester', 'smiu', 'cs', 'akhtar'}\n"
     ]
    }
   ],
   "source": [
    "info={\"akhtar\",\"smiu\",\"cs\",\"second semester\"}\n",
    "print(info)"
   ]
  },
  {
   "cell_type": "code",
   "execution_count": 41,
   "id": "b2d36b44-0e89-4e72-9087-5c2ccefac2eb",
   "metadata": {},
   "outputs": [
    {
     "name": "stdout",
     "output_type": "stream",
     "text": [
      "{'karachi', 'second semester', 'smiu', 'morning', 'cs', 'akhtar'}\n"
     ]
    }
   ],
   "source": [
    "info.add(\"karachi\")\n",
    "print(info)"
   ]
  },
  {
   "cell_type": "code",
   "execution_count": 43,
   "id": "687e292e-3cdc-4834-a158-a874ee38024e",
   "metadata": {},
   "outputs": [
    {
     "name": "stdout",
     "output_type": "stream",
     "text": [
      "{'karachi', 'second semester', 'smiu', 'morning', 'cs'}\n"
     ]
    }
   ],
   "source": [
    "info.remove(\"akhtar\")\n",
    "print(info)"
   ]
  },
  {
   "cell_type": "code",
   "execution_count": 45,
   "id": "552a20ef-bf7c-4ba0-b4cb-9055c98405bf",
   "metadata": {},
   "outputs": [
    {
     "name": "stdout",
     "output_type": "stream",
     "text": [
      "{'second semester', 'smiu', 'morning', 'cs'}\n"
     ]
    }
   ],
   "source": [
    "info.pop()\n",
    "print(info)"
   ]
  },
  {
   "cell_type": "code",
   "execution_count": 47,
   "id": "ac81633b-13bf-4861-b9c2-369099989ff5",
   "metadata": {},
   "outputs": [
    {
     "name": "stdout",
     "output_type": "stream",
     "text": [
      "set()\n"
     ]
    }
   ],
   "source": [
    "info.clear()\n",
    "print(info)"
   ]
  },
  {
   "cell_type": "markdown",
   "id": "c803fdd3-5b1d-419d-bed2-2cf3c155bb70",
   "metadata": {},
   "source": [
    "- in set immutable mean we can add and remove element but the existing element cannot be change"
   ]
  },
  {
   "cell_type": "markdown",
   "id": "8bfbe216-7fa7-4fa9-a64d-b26fa9f8e7e7",
   "metadata": {},
   "source": [
    "- union combine both set values and return new\n",
    "- intersection combine common value and return new"
   ]
  },
  {
   "cell_type": "code",
   "execution_count": 53,
   "id": "0c371480-a3e5-4f34-9d19-5e554e048d53",
   "metadata": {},
   "outputs": [
    {
     "name": "stdout",
     "output_type": "stream",
     "text": [
      "{1, 2, 3, 4, 5}\n"
     ]
    }
   ],
   "source": [
    "set1={1,2,3}\n",
    "set2={3,4,5}\n",
    "\n",
    "print(set1.union(set2))"
   ]
  },
  {
   "cell_type": "code",
   "execution_count": 55,
   "id": "04a8a5f7-4955-40cd-9742-7642130c3f5f",
   "metadata": {},
   "outputs": [
    {
     "name": "stdout",
     "output_type": "stream",
     "text": [
      "{3}\n"
     ]
    }
   ],
   "source": [
    "print(set1.intersection(set2))"
   ]
  },
  {
   "cell_type": "markdown",
   "id": "4c0d519f-c90d-46c4-acb8-db0b6e45d9b8",
   "metadata": {},
   "source": [
    "### practice question"
   ]
  },
  {
   "cell_type": "code",
   "execution_count": 70,
   "id": "0de692a8-ef35-42d5-b6ba-9aa1c6fc0646",
   "metadata": {},
   "outputs": [
    {
     "name": "stdout",
     "output_type": "stream",
     "text": [
      "{'table': ['a piece of furniture', 'list of facts and figures'], 'cat': 'a small animal'}\n"
     ]
    }
   ],
   "source": [
    "dic={\"table\":[\"a piece of furniture\",\"list of facts and figures\"],\"cat\":\"a small animal\"}\n",
    "print(dic)"
   ]
  },
  {
   "cell_type": "code",
   "execution_count": 72,
   "id": "c6567435-9c90-474f-9313-5687d9a0fef4",
   "metadata": {},
   "outputs": [
    {
     "name": "stdout",
     "output_type": "stream",
     "text": [
      "{'c++', 'java', 'python', 'javascript', 'c'}\n"
     ]
    }
   ],
   "source": [
    "subject={\"python\",\"java\",\"c++\",\"python\",\"javascript\",\"java\",\"python\",\"java\",\"c++\",\"c\"}\n",
    "print(subject)"
   ]
  },
  {
   "cell_type": "code",
   "execution_count": 88,
   "id": "85c30adf-7df0-44d5-b3d3-9a3dd3806813",
   "metadata": {},
   "outputs": [
    {
     "name": "stdout",
     "output_type": "stream",
     "text": [
      "5\n"
     ]
    }
   ],
   "source": [
    "print(len(subject))"
   ]
  },
  {
   "cell_type": "code",
   "execution_count": 102,
   "id": "eec68709-12eb-4647-95fb-f96d5974cda0",
   "metadata": {},
   "outputs": [
    {
     "name": "stdout",
     "output_type": "stream",
     "text": [
      "enter your marks of the subject:\n"
     ]
    },
    {
     "name": "stdin",
     "output_type": "stream",
     "text": [
      "OOP: 54\n",
      "DBS: 45\n",
      "DLD: 45\n"
     ]
    },
    {
     "name": "stdout",
     "output_type": "stream",
     "text": [
      "{'OOP': 54, 'DBS': 45, 'DLD': 45}\n"
     ]
    }
   ],
   "source": [
    "dis={}\n",
    "print(\"enter your marks of the subject:\")\n",
    "a=int(input(\"OOP:\",))\n",
    "dis.update({\"OOP\":a})\n",
    "b=int(input(\"DBS:\",))\n",
    "dis.update({\"DBS\":b})\n",
    "c=int(input(\"DLD:\",))\n",
    "dis.update({\"DLD\":c})\n",
    "print(dis)\n"
   ]
  },
  {
   "cell_type": "code",
   "execution_count": 108,
   "id": "edaeac99-1361-4c19-97e9-5b35a158025d",
   "metadata": {},
   "outputs": [
    {
     "name": "stdout",
     "output_type": "stream",
     "text": [
      "{9}\n"
     ]
    }
   ],
   "source": [
    "values={9,9.0}\n",
    "print(values)\n"
   ]
  },
  {
   "cell_type": "code",
   "execution_count": 112,
   "id": "de75ed7c-3163-4c51-a8b2-588ad5cff1bf",
   "metadata": {},
   "outputs": [
    {
     "name": "stdout",
     "output_type": "stream",
     "text": [
      "{8, 9, 9.34}\n"
     ]
    }
   ],
   "source": [
    "values={9,9.34,8,8.0}\n",
    "print(values)\n"
   ]
  },
  {
   "cell_type": "code",
   "execution_count": 114,
   "id": "c46a26a6-0a56-4711-8c23-12049f7f1b81",
   "metadata": {},
   "outputs": [
    {
     "name": "stdout",
     "output_type": "stream",
     "text": [
      "{9.0, '9'}\n"
     ]
    }
   ],
   "source": [
    "sett={\"9\",9.0}\n",
    "print(sett)"
   ]
  },
  {
   "cell_type": "code",
   "execution_count": null,
   "id": "321b4f5b-18d9-45e6-9512-ab7825edb7d0",
   "metadata": {},
   "outputs": [],
   "source": []
  }
 ],
 "metadata": {
  "kernelspec": {
   "display_name": "Python 3 (ipykernel)",
   "language": "python",
   "name": "python3"
  },
  "language_info": {
   "codemirror_mode": {
    "name": "ipython",
    "version": 3
   },
   "file_extension": ".py",
   "mimetype": "text/x-python",
   "name": "python",
   "nbconvert_exporter": "python",
   "pygments_lexer": "ipython3",
   "version": "3.12.7"
  }
 },
 "nbformat": 4,
 "nbformat_minor": 5
}
